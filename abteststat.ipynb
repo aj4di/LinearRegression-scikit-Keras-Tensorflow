{
 "cells": [
  {
   "cell_type": "code",
   "execution_count": 97,
   "id": "9620f5d1",
   "metadata": {},
   "outputs": [],
   "source": [
    "import pandas as pd\n",
    "import matplotlib.pyplot as plt\n",
    "import seaborn as sns\n",
    "import warnings\n",
    "warnings.filterwarnings(\"ignore\")\n",
    "from PIL import Image \n",
    "import plotly as plt"
   ]
  },
  {
   "cell_type": "markdown",
   "id": "33c48981",
   "metadata": {},
   "source": [
    "# E-news Express Project "
   ]
  },
  {
   "cell_type": "code",
   "execution_count": 244,
   "id": "f887beb1",
   "metadata": {},
   "outputs": [],
   "source": [
    "data = pd.read_csv('abtest.csv')"
   ]
  },
  {
   "cell_type": "code",
   "execution_count": 246,
   "id": "b1109f06",
   "metadata": {
    "scrolled": true
   },
   "outputs": [
    {
     "data": {
      "text/html": [
       "<div>\n",
       "<style scoped>\n",
       "    .dataframe tbody tr th:only-of-type {\n",
       "        vertical-align: middle;\n",
       "    }\n",
       "\n",
       "    .dataframe tbody tr th {\n",
       "        vertical-align: top;\n",
       "    }\n",
       "\n",
       "    .dataframe thead th {\n",
       "        text-align: right;\n",
       "    }\n",
       "</style>\n",
       "<table border=\"1\" class=\"dataframe\">\n",
       "  <thead>\n",
       "    <tr style=\"text-align: right;\">\n",
       "      <th></th>\n",
       "      <th>user_id</th>\n",
       "      <th>group</th>\n",
       "      <th>landing_page</th>\n",
       "      <th>time_spent_on_the_page</th>\n",
       "      <th>converted</th>\n",
       "      <th>language_preferred</th>\n",
       "    </tr>\n",
       "  </thead>\n",
       "  <tbody>\n",
       "    <tr>\n",
       "      <th>0</th>\n",
       "      <td>546592</td>\n",
       "      <td>control</td>\n",
       "      <td>old</td>\n",
       "      <td>3.48</td>\n",
       "      <td>no</td>\n",
       "      <td>Spanish</td>\n",
       "    </tr>\n",
       "    <tr>\n",
       "      <th>1</th>\n",
       "      <td>546468</td>\n",
       "      <td>treatment</td>\n",
       "      <td>new</td>\n",
       "      <td>7.13</td>\n",
       "      <td>yes</td>\n",
       "      <td>English</td>\n",
       "    </tr>\n",
       "    <tr>\n",
       "      <th>2</th>\n",
       "      <td>546462</td>\n",
       "      <td>treatment</td>\n",
       "      <td>new</td>\n",
       "      <td>4.40</td>\n",
       "      <td>no</td>\n",
       "      <td>Spanish</td>\n",
       "    </tr>\n",
       "    <tr>\n",
       "      <th>3</th>\n",
       "      <td>546567</td>\n",
       "      <td>control</td>\n",
       "      <td>old</td>\n",
       "      <td>3.02</td>\n",
       "      <td>no</td>\n",
       "      <td>French</td>\n",
       "    </tr>\n",
       "    <tr>\n",
       "      <th>4</th>\n",
       "      <td>546459</td>\n",
       "      <td>treatment</td>\n",
       "      <td>new</td>\n",
       "      <td>4.75</td>\n",
       "      <td>yes</td>\n",
       "      <td>Spanish</td>\n",
       "    </tr>\n",
       "  </tbody>\n",
       "</table>\n",
       "</div>"
      ],
      "text/plain": [
       "   user_id      group landing_page  time_spent_on_the_page converted  \\\n",
       "0   546592    control          old                    3.48        no   \n",
       "1   546468  treatment          new                    7.13       yes   \n",
       "2   546462  treatment          new                    4.40        no   \n",
       "3   546567    control          old                    3.02        no   \n",
       "4   546459  treatment          new                    4.75       yes   \n",
       "\n",
       "  language_preferred  \n",
       "0            Spanish  \n",
       "1            English  \n",
       "2            Spanish  \n",
       "3             French  \n",
       "4            Spanish  "
      ]
     },
     "execution_count": 246,
     "metadata": {},
     "output_type": "execute_result"
    }
   ],
   "source": [
    "data.head()\n"
   ]
  },
  {
   "cell_type": "markdown",
   "id": "378fa5c4",
   "metadata": {},
   "source": [
    "Columns user_id, group (categorical variable: control and treatment), landing_page (cat.var. yes or no), time_sent_on_the_page (numerical), converted (cat. var. yes or no), language_preferred (cat. var.: English Spanish French)"
   ]
  },
  {
   "cell_type": "code",
   "execution_count": 247,
   "id": "40ea2453",
   "metadata": {},
   "outputs": [
    {
     "data": {
      "text/plain": [
       "100"
      ]
     },
     "execution_count": 247,
     "metadata": {},
     "output_type": "execute_result"
    }
   ],
   "source": [
    "len(data)"
   ]
  },
  {
   "cell_type": "code",
   "execution_count": 248,
   "id": "4bcad73c",
   "metadata": {},
   "outputs": [
    {
     "data": {
      "text/plain": [
       "(100, 6)"
      ]
     },
     "execution_count": 248,
     "metadata": {},
     "output_type": "execute_result"
    }
   ],
   "source": [
    "data.shape"
   ]
  },
  {
   "cell_type": "markdown",
   "id": "b2f944ce",
   "metadata": {},
   "source": [
    "data has form : 6 columns 100 rows"
   ]
  },
  {
   "cell_type": "code",
   "execution_count": 249,
   "id": "6d61f49a",
   "metadata": {},
   "outputs": [
    {
     "name": "stdout",
     "output_type": "stream",
     "text": [
      "<class 'pandas.core.frame.DataFrame'>\n",
      "RangeIndex: 100 entries, 0 to 99\n",
      "Data columns (total 6 columns):\n",
      " #   Column                  Non-Null Count  Dtype  \n",
      "---  ------                  --------------  -----  \n",
      " 0   user_id                 100 non-null    int64  \n",
      " 1   group                   100 non-null    object \n",
      " 2   landing_page            100 non-null    object \n",
      " 3   time_spent_on_the_page  100 non-null    float64\n",
      " 4   converted               100 non-null    object \n",
      " 5   language_preferred      100 non-null    object \n",
      "dtypes: float64(1), int64(1), object(4)\n",
      "memory usage: 4.8+ KB\n"
     ]
    }
   ],
   "source": [
    "data.info()"
   ]
  },
  {
   "cell_type": "markdown",
   "id": "85066952",
   "metadata": {},
   "source": [
    "Categorical variables are shown as \"object\" type and the only numerical varable of interest is \"time_spent_on_the_page\"  (type float)."
   ]
  },
  {
   "cell_type": "code",
   "execution_count": 250,
   "id": "7509c3d5",
   "metadata": {},
   "outputs": [
    {
     "data": {
      "text/html": [
       "<div>\n",
       "<style scoped>\n",
       "    .dataframe tbody tr th:only-of-type {\n",
       "        vertical-align: middle;\n",
       "    }\n",
       "\n",
       "    .dataframe tbody tr th {\n",
       "        vertical-align: top;\n",
       "    }\n",
       "\n",
       "    .dataframe thead th {\n",
       "        text-align: right;\n",
       "    }\n",
       "</style>\n",
       "<table border=\"1\" class=\"dataframe\">\n",
       "  <thead>\n",
       "    <tr style=\"text-align: right;\">\n",
       "      <th></th>\n",
       "      <th>user_id</th>\n",
       "      <th>time_spent_on_the_page</th>\n",
       "    </tr>\n",
       "  </thead>\n",
       "  <tbody>\n",
       "    <tr>\n",
       "      <th>count</th>\n",
       "      <td>100.000000</td>\n",
       "      <td>100.000000</td>\n",
       "    </tr>\n",
       "    <tr>\n",
       "      <th>mean</th>\n",
       "      <td>546517.000000</td>\n",
       "      <td>5.377800</td>\n",
       "    </tr>\n",
       "    <tr>\n",
       "      <th>std</th>\n",
       "      <td>52.295779</td>\n",
       "      <td>2.378166</td>\n",
       "    </tr>\n",
       "    <tr>\n",
       "      <th>min</th>\n",
       "      <td>546443.000000</td>\n",
       "      <td>0.190000</td>\n",
       "    </tr>\n",
       "    <tr>\n",
       "      <th>25%</th>\n",
       "      <td>546467.750000</td>\n",
       "      <td>3.880000</td>\n",
       "    </tr>\n",
       "    <tr>\n",
       "      <th>50%</th>\n",
       "      <td>546492.500000</td>\n",
       "      <td>5.415000</td>\n",
       "    </tr>\n",
       "    <tr>\n",
       "      <th>75%</th>\n",
       "      <td>546567.250000</td>\n",
       "      <td>7.022500</td>\n",
       "    </tr>\n",
       "    <tr>\n",
       "      <th>max</th>\n",
       "      <td>546592.000000</td>\n",
       "      <td>10.710000</td>\n",
       "    </tr>\n",
       "  </tbody>\n",
       "</table>\n",
       "</div>"
      ],
      "text/plain": [
       "             user_id  time_spent_on_the_page\n",
       "count     100.000000              100.000000\n",
       "mean   546517.000000                5.377800\n",
       "std        52.295779                2.378166\n",
       "min    546443.000000                0.190000\n",
       "25%    546467.750000                3.880000\n",
       "50%    546492.500000                5.415000\n",
       "75%    546567.250000                7.022500\n",
       "max    546592.000000               10.710000"
      ]
     },
     "execution_count": 250,
     "metadata": {},
     "output_type": "execute_result"
    }
   ],
   "source": [
    "data.describe()"
   ]
  },
  {
   "cell_type": "markdown",
   "id": "20e73244",
   "metadata": {},
   "source": [
    "Average time spenton the page is 5.38 min. Standard deviation is 2.38 min. Minimum time is 0.19 min. max. 10.71 min.  "
   ]
  },
  {
   "cell_type": "markdown",
   "id": "c82135bd",
   "metadata": {},
   "source": [
    "# Checking the data for counts and  missing values. "
   ]
  },
  {
   "cell_type": "code",
   "execution_count": 251,
   "id": "fab5f5e3",
   "metadata": {},
   "outputs": [
    {
     "data": {
      "text/plain": [
       "user_id                   0\n",
       "group                     0\n",
       "landing_page              0\n",
       "time_spent_on_the_page    0\n",
       "converted                 0\n",
       "language_preferred        0\n",
       "dtype: int64"
      ]
     },
     "execution_count": 251,
     "metadata": {},
     "output_type": "execute_result"
    }
   ],
   "source": [
    "data.isna().sum()"
   ]
  },
  {
   "cell_type": "markdown",
   "id": "2ec77e45",
   "metadata": {},
   "source": [
    "Data is 'clean'."
   ]
  },
  {
   "cell_type": "code",
   "execution_count": 252,
   "id": "e67e922a",
   "metadata": {},
   "outputs": [
    {
     "data": {
      "text/plain": [
       "treatment    0.5\n",
       "control      0.5\n",
       "Name: group, dtype: float64"
      ]
     },
     "execution_count": 252,
     "metadata": {},
     "output_type": "execute_result"
    }
   ],
   "source": [
    "data.group.value_counts(normalize=True, dropna=False)"
   ]
  },
  {
   "cell_type": "markdown",
   "id": "968841fd",
   "metadata": {},
   "source": [
    "Checked that 'control' (old page) and 'treatment' (visitng new page) groups have the same size (50/50 split)."
   ]
  },
  {
   "cell_type": "code",
   "execution_count": 253,
   "id": "420e21cb",
   "metadata": {},
   "outputs": [
    {
     "data": {
      "text/plain": [
       "new    0.5\n",
       "old    0.5\n",
       "Name: landing_page, dtype: float64"
      ]
     },
     "execution_count": 253,
     "metadata": {},
     "output_type": "execute_result"
    }
   ],
   "source": [
    "data.landing_page.value_counts(normalize=True, dropna=False)"
   ]
  },
  {
   "cell_type": "markdown",
   "id": "35153f99",
   "metadata": {},
   "source": [
    "(Confirming that landing_page has the same sizes as control and treatment groups.) "
   ]
  },
  {
   "cell_type": "code",
   "execution_count": 254,
   "id": "7d6b2a6e",
   "metadata": {},
   "outputs": [
    {
     "data": {
      "text/plain": [
       "yes    0.54\n",
       "no     0.46\n",
       "Name: converted, dtype: float64"
      ]
     },
     "execution_count": 254,
     "metadata": {},
     "output_type": "execute_result"
    }
   ],
   "source": [
    "data.converted.value_counts(normalize=True, dropna=False)"
   ]
  },
  {
   "cell_type": "markdown",
   "id": "0dac4dfc",
   "metadata": {},
   "source": [
    "54% of all people visiting the page converted to subscription."
   ]
  },
  {
   "cell_type": "code",
   "execution_count": 255,
   "id": "3563e9b1",
   "metadata": {},
   "outputs": [
    {
     "data": {
      "text/plain": [
       "French     0.34\n",
       "Spanish    0.34\n",
       "English    0.32\n",
       "Name: language_preferred, dtype: float64"
      ]
     },
     "execution_count": 255,
     "metadata": {},
     "output_type": "execute_result"
    }
   ],
   "source": [
    "data.language_preferred.value_counts(normalize=True, dropna=False)"
   ]
  },
  {
   "cell_type": "markdown",
   "id": "b2e6263c",
   "metadata": {},
   "source": [
    "Correspondingly 34%, 34%and 32% preferred French, Spanish and English language."
   ]
  },
  {
   "cell_type": "code",
   "execution_count": 256,
   "id": "c39ba75a",
   "metadata": {},
   "outputs": [
    {
     "data": {
      "text/plain": [
       "French     34\n",
       "Spanish    34\n",
       "English    32\n",
       "Name: language_preferred, dtype: int64"
      ]
     },
     "execution_count": 256,
     "metadata": {},
     "output_type": "execute_result"
    }
   ],
   "source": [
    "data.language_preferred.value_counts()"
   ]
  },
  {
   "cell_type": "code",
   "execution_count": 315,
   "id": "d4d36e2a",
   "metadata": {},
   "outputs": [
    {
     "data": {
      "text/plain": [
       "yes    54\n",
       "no     46\n",
       "Name: converted, dtype: int64"
      ]
     },
     "execution_count": 315,
     "metadata": {},
     "output_type": "execute_result"
    }
   ],
   "source": [
    "data.converted.value_counts()"
   ]
  },
  {
   "cell_type": "markdown",
   "id": "bc78bf93",
   "metadata": {},
   "source": [
    "Conclusions: \n",
    "* we have 'clean' data set for 100 customers. \n",
    "* Data has 50-50 split for categorical variable \"group\", \"landing_page\".\n",
    "* For variable \"converted\" the split is 54 (yes) and 46 (no). \n",
    "* there are 3 possible preferred languages: English French and Spanish.\n",
    "* Numerical variable \"time spenton the page\" has values from 0.19min. to 10.71min. with average 5.38 min. "
   ]
  },
  {
   "cell_type": "code",
   "execution_count": null,
   "id": "5ffb404e",
   "metadata": {},
   "outputs": [],
   "source": []
  },
  {
   "cell_type": "markdown",
   "id": "32cacaa9",
   "metadata": {},
   "source": [
    "# Univariate analysis"
   ]
  },
  {
   "cell_type": "markdown",
   "id": "2da5fe6e",
   "metadata": {},
   "source": [
    "Boxplot and histogram for time spent on the page."
   ]
  },
  {
   "cell_type": "code",
   "execution_count": 258,
   "id": "96da79b7",
   "metadata": {},
   "outputs": [
    {
     "data": {
      "text/plain": [
       "<AxesSubplot:xlabel='time_spent_on_the_page'>"
      ]
     },
     "execution_count": 258,
     "metadata": {},
     "output_type": "execute_result"
    },
    {
     "data": {
      "image/png": "[encoded data removed]",
      "text/plain": [
       "<Figure size 432x288 with 1 Axes>"
      ]
     },
     "metadata": {
      "needs_background": "light"
     },
     "output_type": "display_data"
    }
   ],
   "source": [
    "sns.boxplot(data=data, x='time_spent_on_the_page',  showmeans=True, color=\"yellow\")"
   ]
  },
  {
   "cell_type": "code",
   "execution_count": 259,
   "id": "956dd9de",
   "metadata": {},
   "outputs": [
    {
     "data": {
      "text/plain": [
       "<AxesSubplot:xlabel='time_spent_on_the_page', ylabel='Count'>"
      ]
     },
     "execution_count": 259,
     "metadata": {},
     "output_type": "execute_result"
    },
    {
     "data": {
      "image/png": "[encoded data removed]",
      "text/plain": [
       "<Figure size 432x288 with 1 Axes>"
      ]
     },
     "metadata": {
      "needs_background": "light"
     },
     "output_type": "display_data"
    }
   ],
   "source": [
    "sns.histplot(\n",
    "        data=data, x='time_spent_on_the_page', bins=20,palette=\"winter\",kde=True\n",
    "    )  \n",
    "#ax_hist2.axvline(\n",
    "#        data['time_spent_on_the_page'].mean(), color=\"green\", linestyle=\"--\"\n",
    "#    )  \n",
    "#ax_hist2.axvline(\n",
    "#        data['time_spent_on_the_page'].median(), color=\"black\", linestyle=\"-\""
   ]
  },
  {
   "cell_type": "markdown",
   "id": "52470a4e",
   "metadata": {},
   "source": [
    "# Different variables and different categorical data"
   ]
  },
  {
   "cell_type": "code",
   "execution_count": 318,
   "id": "74301759",
   "metadata": {},
   "outputs": [
    {
     "data": {
      "text/plain": [
       "<seaborn.axisgrid.FacetGrid at 0x19fbeb0ee80>"
      ]
     },
     "execution_count": 318,
     "metadata": {},
     "output_type": "execute_result"
    },
    {
     "data": {
      "image/png": "[encoded data removed]",
      "text/plain": [
       "<Figure size 466.125x360 with 1 Axes>"
      ]
     },
     "metadata": {
      "needs_background": "light"
     },
     "output_type": "display_data"
    }
   ],
   "source": [
    "sns.displot(data,x='time_spent_on_the_page',hue='language_preferred',stat=\"probability\",element=\"step\",kde=True,common_norm=False,palette='winter')"
   ]
  },
  {
   "cell_type": "markdown",
   "id": "791254cd",
   "metadata": {},
   "source": [
    "Distributions for times spent on the page when considering preferred language - do not look very diferent. This suggest the time spent on the page does not depend on the preferred language."
   ]
  },
  {
   "cell_type": "code",
   "execution_count": 261,
   "id": "b1fb787d",
   "metadata": {},
   "outputs": [
    {
     "data": {
      "text/plain": [
       "<seaborn.axisgrid.FacetGrid at 0x19fbd13c970>"
      ]
     },
     "execution_count": 261,
     "metadata": {},
     "output_type": "execute_result"
    },
    {
     "data": {
      "image/png": "[encoded data removed]",
      "text/plain": [
       "<Figure size 418.375x360 with 1 Axes>"
      ]
     },
     "metadata": {
      "needs_background": "light"
     },
     "output_type": "display_data"
    }
   ],
   "source": [
    "sns.displot(data,x='time_spent_on_the_page',hue='converted',stat=\"probability\",kde=True,common_norm=False,element=\"step\")"
   ]
  },
  {
   "cell_type": "code",
   "execution_count": 316,
   "id": "d1e6b649",
   "metadata": {},
   "outputs": [
    {
     "data": {
      "text/plain": [
       "<seaborn.axisgrid.FacetGrid at 0x19fbecf2970>"
      ]
     },
     "execution_count": 316,
     "metadata": {},
     "output_type": "execute_result"
    },
    {
     "data": {
      "image/png": "[encoded data removed]",
      "text/plain": [
       "<Figure size 435.25x360 with 1 Axes>"
      ]
     },
     "metadata": {
      "needs_background": "light"
     },
     "output_type": "display_data"
    }
   ],
   "source": [
    "sns.displot(data,x='time_spent_on_the_page',hue='landing_page',kde=True,common_norm=False,element=\"step\")"
   ]
  },
  {
   "cell_type": "markdown",
   "id": "f97cd6da",
   "metadata": {},
   "source": [
    "Distributions for time spent on the page for new and old pages look different. This suggest a trend: customers visitng newpage spent more time \n",
    "    on the page"
   ]
  },
  {
   "cell_type": "code",
   "execution_count": 264,
   "id": "cd580f00",
   "metadata": {},
   "outputs": [
    {
     "data": {
      "text/plain": [
       "<seaborn.axisgrid.FacetGrid at 0x19fbd20fd30>"
      ]
     },
     "execution_count": 264,
     "metadata": {},
     "output_type": "execute_result"
    },
    {
     "data": {
      "image/png": "[encoded data removed]",
      "text/plain": [
       "<Figure size 418.375x360 with 1 Axes>"
      ]
     },
     "metadata": {
      "needs_background": "light"
     },
     "output_type": "display_data"
    }
   ],
   "source": [
    "sns.displot(data,x='time_spent_on_the_page',hue='converted',common_norm=False,element=\"step\")"
   ]
  },
  {
   "cell_type": "markdown",
   "id": "b9936368",
   "metadata": {},
   "source": [
    "Distribution for time spent on the page for the 2 groups of converted and  not converted to subscription look different. "
   ]
  },
  {
   "cell_type": "code",
   "execution_count": 265,
   "id": "4747d2fb",
   "metadata": {},
   "outputs": [
    {
     "data": {
      "text/plain": [
       "<seaborn.axisgrid.FacetGrid at 0x19fbd3518e0>"
      ]
     },
     "execution_count": 265,
     "metadata": {},
     "output_type": "execute_result"
    },
    {
     "data": {
      "image/png": "[encoded data removed]",
      "text/plain": [
       "<Figure size 445.875x360 with 1 Axes>"
      ]
     },
     "metadata": {
      "needs_background": "light"
     },
     "output_type": "display_data"
    }
   ],
   "source": [
    "sns.displot(data,x='time_spent_on_the_page',hue='group',stat=\"probability\",kde=True,common_norm=False)"
   ]
  },
  {
   "cell_type": "markdown",
   "id": "fc89d624",
   "metadata": {},
   "source": [
    "#  Splitting data  into subsets "
   ]
  },
  {
   "cell_type": "markdown",
   "id": "4c036dd0",
   "metadata": {},
   "source": [
    "I will later use this the dataframes created in this section to analyze in detailthe visuaization and the statistics related questions."
   ]
  },
  {
   "cell_type": "code",
   "execution_count": 266,
   "id": "66950bc7",
   "metadata": {},
   "outputs": [],
   "source": [
    "groupcontrol=data[data['group']=='control']"
   ]
  },
  {
   "cell_type": "code",
   "execution_count": 267,
   "id": "3fb162b6",
   "metadata": {},
   "outputs": [
    {
     "data": {
      "text/html": [
       "<div>\n",
       "<style scoped>\n",
       "    .dataframe tbody tr th:only-of-type {\n",
       "        vertical-align: middle;\n",
       "    }\n",
       "\n",
       "    .dataframe tbody tr th {\n",
       "        vertical-align: top;\n",
       "    }\n",
       "\n",
       "    .dataframe thead th {\n",
       "        text-align: right;\n",
       "    }\n",
       "</style>\n",
       "<table border=\"1\" class=\"dataframe\">\n",
       "  <thead>\n",
       "    <tr style=\"text-align: right;\">\n",
       "      <th></th>\n",
       "      <th>user_id</th>\n",
       "      <th>time_spent_on_the_page</th>\n",
       "    </tr>\n",
       "  </thead>\n",
       "  <tbody>\n",
       "    <tr>\n",
       "      <th>count</th>\n",
       "      <td>50.00000</td>\n",
       "      <td>50.000000</td>\n",
       "    </tr>\n",
       "    <tr>\n",
       "      <th>mean</th>\n",
       "      <td>546566.50000</td>\n",
       "      <td>4.532400</td>\n",
       "    </tr>\n",
       "    <tr>\n",
       "      <th>std</th>\n",
       "      <td>17.67767</td>\n",
       "      <td>2.581975</td>\n",
       "    </tr>\n",
       "    <tr>\n",
       "      <th>min</th>\n",
       "      <td>546493.00000</td>\n",
       "      <td>0.190000</td>\n",
       "    </tr>\n",
       "    <tr>\n",
       "      <th>25%</th>\n",
       "      <td>546555.25000</td>\n",
       "      <td>2.720000</td>\n",
       "    </tr>\n",
       "    <tr>\n",
       "      <th>50%</th>\n",
       "      <td>546567.50000</td>\n",
       "      <td>4.380000</td>\n",
       "    </tr>\n",
       "    <tr>\n",
       "      <th>75%</th>\n",
       "      <td>546579.75000</td>\n",
       "      <td>6.442500</td>\n",
       "    </tr>\n",
       "    <tr>\n",
       "      <th>max</th>\n",
       "      <td>546592.00000</td>\n",
       "      <td>10.300000</td>\n",
       "    </tr>\n",
       "  </tbody>\n",
       "</table>\n",
       "</div>"
      ],
      "text/plain": [
       "            user_id  time_spent_on_the_page\n",
       "count      50.00000               50.000000\n",
       "mean   546566.50000                4.532400\n",
       "std        17.67767                2.581975\n",
       "min    546493.00000                0.190000\n",
       "25%    546555.25000                2.720000\n",
       "50%    546567.50000                4.380000\n",
       "75%    546579.75000                6.442500\n",
       "max    546592.00000               10.300000"
      ]
     },
     "execution_count": 267,
     "metadata": {},
     "output_type": "execute_result"
    }
   ],
   "source": [
    "groupcontrol.describe()"
   ]
  },
  {
   "cell_type": "code",
   "execution_count": 268,
   "id": "c2aa34a1",
   "metadata": {},
   "outputs": [],
   "source": [
    "grouptreatment=data[data['group']=='treatment']"
   ]
  },
  {
   "cell_type": "code",
   "execution_count": 269,
   "id": "a861843f",
   "metadata": {},
   "outputs": [
    {
     "data": {
      "text/html": [
       "<div>\n",
       "<style scoped>\n",
       "    .dataframe tbody tr th:only-of-type {\n",
       "        vertical-align: middle;\n",
       "    }\n",
       "\n",
       "    .dataframe tbody tr th {\n",
       "        vertical-align: top;\n",
       "    }\n",
       "\n",
       "    .dataframe thead th {\n",
       "        text-align: right;\n",
       "    }\n",
       "</style>\n",
       "<table border=\"1\" class=\"dataframe\">\n",
       "  <thead>\n",
       "    <tr style=\"text-align: right;\">\n",
       "      <th></th>\n",
       "      <th>user_id</th>\n",
       "      <th>time_spent_on_the_page</th>\n",
       "    </tr>\n",
       "  </thead>\n",
       "  <tbody>\n",
       "    <tr>\n",
       "      <th>count</th>\n",
       "      <td>50.00000</td>\n",
       "      <td>50.000000</td>\n",
       "    </tr>\n",
       "    <tr>\n",
       "      <th>mean</th>\n",
       "      <td>546467.50000</td>\n",
       "      <td>6.223200</td>\n",
       "    </tr>\n",
       "    <tr>\n",
       "      <th>std</th>\n",
       "      <td>14.57738</td>\n",
       "      <td>1.817031</td>\n",
       "    </tr>\n",
       "    <tr>\n",
       "      <th>min</th>\n",
       "      <td>546443.00000</td>\n",
       "      <td>1.650000</td>\n",
       "    </tr>\n",
       "    <tr>\n",
       "      <th>25%</th>\n",
       "      <td>546455.25000</td>\n",
       "      <td>5.175000</td>\n",
       "    </tr>\n",
       "    <tr>\n",
       "      <th>50%</th>\n",
       "      <td>546467.50000</td>\n",
       "      <td>6.105000</td>\n",
       "    </tr>\n",
       "    <tr>\n",
       "      <th>75%</th>\n",
       "      <td>546479.75000</td>\n",
       "      <td>7.160000</td>\n",
       "    </tr>\n",
       "    <tr>\n",
       "      <th>max</th>\n",
       "      <td>546492.00000</td>\n",
       "      <td>10.710000</td>\n",
       "    </tr>\n",
       "  </tbody>\n",
       "</table>\n",
       "</div>"
      ],
      "text/plain": [
       "            user_id  time_spent_on_the_page\n",
       "count      50.00000               50.000000\n",
       "mean   546467.50000                6.223200\n",
       "std        14.57738                1.817031\n",
       "min    546443.00000                1.650000\n",
       "25%    546455.25000                5.175000\n",
       "50%    546467.50000                6.105000\n",
       "75%    546479.75000                7.160000\n",
       "max    546492.00000               10.710000"
      ]
     },
     "execution_count": 269,
     "metadata": {},
     "output_type": "execute_result"
    }
   ],
   "source": [
    "grouptreatment.describe()"
   ]
  },
  {
   "cell_type": "code",
   "execution_count": 270,
   "id": "fe4c0b33",
   "metadata": {},
   "outputs": [],
   "source": [
    "grE=data[data['language_preferred']=='English']"
   ]
  },
  {
   "cell_type": "code",
   "execution_count": 271,
   "id": "b8a259d0",
   "metadata": {},
   "outputs": [
    {
     "data": {
      "text/html": [
       "<div>\n",
       "<style scoped>\n",
       "    .dataframe tbody tr th:only-of-type {\n",
       "        vertical-align: middle;\n",
       "    }\n",
       "\n",
       "    .dataframe tbody tr th {\n",
       "        vertical-align: top;\n",
       "    }\n",
       "\n",
       "    .dataframe thead th {\n",
       "        text-align: right;\n",
       "    }\n",
       "</style>\n",
       "<table border=\"1\" class=\"dataframe\">\n",
       "  <thead>\n",
       "    <tr style=\"text-align: right;\">\n",
       "      <th></th>\n",
       "      <th>user_id</th>\n",
       "      <th>time_spent_on_the_page</th>\n",
       "    </tr>\n",
       "  </thead>\n",
       "  <tbody>\n",
       "    <tr>\n",
       "      <th>count</th>\n",
       "      <td>32.000000</td>\n",
       "      <td>32.000000</td>\n",
       "    </tr>\n",
       "    <tr>\n",
       "      <th>mean</th>\n",
       "      <td>546504.625000</td>\n",
       "      <td>5.559063</td>\n",
       "    </tr>\n",
       "    <tr>\n",
       "      <th>std</th>\n",
       "      <td>45.658444</td>\n",
       "      <td>2.621079</td>\n",
       "    </tr>\n",
       "    <tr>\n",
       "      <th>min</th>\n",
       "      <td>546443.000000</td>\n",
       "      <td>0.220000</td>\n",
       "    </tr>\n",
       "    <tr>\n",
       "      <th>25%</th>\n",
       "      <td>546462.250000</td>\n",
       "      <td>3.617500</td>\n",
       "    </tr>\n",
       "    <tr>\n",
       "      <th>50%</th>\n",
       "      <td>546490.500000</td>\n",
       "      <td>5.755000</td>\n",
       "    </tr>\n",
       "    <tr>\n",
       "      <th>75%</th>\n",
       "      <td>546550.250000</td>\n",
       "      <td>7.137500</td>\n",
       "    </tr>\n",
       "    <tr>\n",
       "      <th>max</th>\n",
       "      <td>546558.000000</td>\n",
       "      <td>10.500000</td>\n",
       "    </tr>\n",
       "  </tbody>\n",
       "</table>\n",
       "</div>"
      ],
      "text/plain": [
       "             user_id  time_spent_on_the_page\n",
       "count      32.000000               32.000000\n",
       "mean   546504.625000                5.559063\n",
       "std        45.658444                2.621079\n",
       "min    546443.000000                0.220000\n",
       "25%    546462.250000                3.617500\n",
       "50%    546490.500000                5.755000\n",
       "75%    546550.250000                7.137500\n",
       "max    546558.000000               10.500000"
      ]
     },
     "execution_count": 271,
     "metadata": {},
     "output_type": "execute_result"
    }
   ],
   "source": [
    "grE.describe()"
   ]
  },
  {
   "cell_type": "code",
   "execution_count": 272,
   "id": "acbd6499",
   "metadata": {},
   "outputs": [],
   "source": [
    "grS=data[data['language_preferred']=='Spanish']"
   ]
  },
  {
   "cell_type": "code",
   "execution_count": 273,
   "id": "490a5771",
   "metadata": {},
   "outputs": [
    {
     "data": {
      "text/html": [
       "<div>\n",
       "<style scoped>\n",
       "    .dataframe tbody tr th:only-of-type {\n",
       "        vertical-align: middle;\n",
       "    }\n",
       "\n",
       "    .dataframe tbody tr th {\n",
       "        vertical-align: top;\n",
       "    }\n",
       "\n",
       "    .dataframe thead th {\n",
       "        text-align: right;\n",
       "    }\n",
       "</style>\n",
       "<table border=\"1\" class=\"dataframe\">\n",
       "  <thead>\n",
       "    <tr style=\"text-align: right;\">\n",
       "      <th></th>\n",
       "      <th>user_id</th>\n",
       "      <th>time_spent_on_the_page</th>\n",
       "    </tr>\n",
       "  </thead>\n",
       "  <tbody>\n",
       "    <tr>\n",
       "      <th>count</th>\n",
       "      <td>34.000000</td>\n",
       "      <td>34.000000</td>\n",
       "    </tr>\n",
       "    <tr>\n",
       "      <th>mean</th>\n",
       "      <td>546528.823529</td>\n",
       "      <td>5.331765</td>\n",
       "    </tr>\n",
       "    <tr>\n",
       "      <th>std</th>\n",
       "      <td>56.996794</td>\n",
       "      <td>1.818095</td>\n",
       "    </tr>\n",
       "    <tr>\n",
       "      <th>min</th>\n",
       "      <td>546446.000000</td>\n",
       "      <td>0.190000</td>\n",
       "    </tr>\n",
       "    <tr>\n",
       "      <th>25%</th>\n",
       "      <td>546479.500000</td>\n",
       "      <td>4.475000</td>\n",
       "    </tr>\n",
       "    <tr>\n",
       "      <th>50%</th>\n",
       "      <td>546534.000000</td>\n",
       "      <td>5.605000</td>\n",
       "    </tr>\n",
       "    <tr>\n",
       "      <th>75%</th>\n",
       "      <td>546583.750000</td>\n",
       "      <td>6.515000</td>\n",
       "    </tr>\n",
       "    <tr>\n",
       "      <th>max</th>\n",
       "      <td>546592.000000</td>\n",
       "      <td>8.720000</td>\n",
       "    </tr>\n",
       "  </tbody>\n",
       "</table>\n",
       "</div>"
      ],
      "text/plain": [
       "             user_id  time_spent_on_the_page\n",
       "count      34.000000               34.000000\n",
       "mean   546528.823529                5.331765\n",
       "std        56.996794                1.818095\n",
       "min    546446.000000                0.190000\n",
       "25%    546479.500000                4.475000\n",
       "50%    546534.000000                5.605000\n",
       "75%    546583.750000                6.515000\n",
       "max    546592.000000                8.720000"
      ]
     },
     "execution_count": 273,
     "metadata": {},
     "output_type": "execute_result"
    }
   ],
   "source": [
    "grS.describe()"
   ]
  },
  {
   "cell_type": "code",
   "execution_count": 274,
   "id": "76b02e21",
   "metadata": {},
   "outputs": [],
   "source": [
    "grF=data[data['language_preferred']=='French']"
   ]
  },
  {
   "cell_type": "code",
   "execution_count": 275,
   "id": "a9a83cb9",
   "metadata": {},
   "outputs": [
    {
     "data": {
      "text/html": [
       "<div>\n",
       "<style scoped>\n",
       "    .dataframe tbody tr th:only-of-type {\n",
       "        vertical-align: middle;\n",
       "    }\n",
       "\n",
       "    .dataframe tbody tr th {\n",
       "        vertical-align: top;\n",
       "    }\n",
       "\n",
       "    .dataframe thead th {\n",
       "        text-align: right;\n",
       "    }\n",
       "</style>\n",
       "<table border=\"1\" class=\"dataframe\">\n",
       "  <thead>\n",
       "    <tr style=\"text-align: right;\">\n",
       "      <th></th>\n",
       "      <th>user_id</th>\n",
       "      <th>time_spent_on_the_page</th>\n",
       "    </tr>\n",
       "  </thead>\n",
       "  <tbody>\n",
       "    <tr>\n",
       "      <th>count</th>\n",
       "      <td>34.000000</td>\n",
       "      <td>34.000000</td>\n",
       "    </tr>\n",
       "    <tr>\n",
       "      <th>mean</th>\n",
       "      <td>546516.823529</td>\n",
       "      <td>5.253235</td>\n",
       "    </tr>\n",
       "    <tr>\n",
       "      <th>std</th>\n",
       "      <td>52.009597</td>\n",
       "      <td>2.675413</td>\n",
       "    </tr>\n",
       "    <tr>\n",
       "      <th>min</th>\n",
       "      <td>546445.000000</td>\n",
       "      <td>0.400000</td>\n",
       "    </tr>\n",
       "    <tr>\n",
       "      <th>25%</th>\n",
       "      <td>546470.250000</td>\n",
       "      <td>3.395000</td>\n",
       "    </tr>\n",
       "    <tr>\n",
       "      <th>50%</th>\n",
       "      <td>546524.500000</td>\n",
       "      <td>5.315000</td>\n",
       "    </tr>\n",
       "    <tr>\n",
       "      <th>75%</th>\n",
       "      <td>546566.750000</td>\n",
       "      <td>7.367500</td>\n",
       "    </tr>\n",
       "    <tr>\n",
       "      <th>max</th>\n",
       "      <td>546575.000000</td>\n",
       "      <td>10.710000</td>\n",
       "    </tr>\n",
       "  </tbody>\n",
       "</table>\n",
       "</div>"
      ],
      "text/plain": [
       "             user_id  time_spent_on_the_page\n",
       "count      34.000000               34.000000\n",
       "mean   546516.823529                5.253235\n",
       "std        52.009597                2.675413\n",
       "min    546445.000000                0.400000\n",
       "25%    546470.250000                3.395000\n",
       "50%    546524.500000                5.315000\n",
       "75%    546566.750000                7.367500\n",
       "max    546575.000000               10.710000"
      ]
     },
     "execution_count": 275,
     "metadata": {},
     "output_type": "execute_result"
    }
   ],
   "source": [
    "grF.describe()"
   ]
  },
  {
   "cell_type": "code",
   "execution_count": 276,
   "id": "d1cc3ac3",
   "metadata": {},
   "outputs": [],
   "source": [
    "groupconverted=data[data['converted']=='yes']"
   ]
  },
  {
   "cell_type": "code",
   "execution_count": 277,
   "id": "30ba1de3",
   "metadata": {},
   "outputs": [
    {
     "data": {
      "text/html": [
       "<div>\n",
       "<style scoped>\n",
       "    .dataframe tbody tr th:only-of-type {\n",
       "        vertical-align: middle;\n",
       "    }\n",
       "\n",
       "    .dataframe tbody tr th {\n",
       "        vertical-align: top;\n",
       "    }\n",
       "\n",
       "    .dataframe thead th {\n",
       "        text-align: right;\n",
       "    }\n",
       "</style>\n",
       "<table border=\"1\" class=\"dataframe\">\n",
       "  <thead>\n",
       "    <tr style=\"text-align: right;\">\n",
       "      <th></th>\n",
       "      <th>user_id</th>\n",
       "      <th>time_spent_on_the_page</th>\n",
       "    </tr>\n",
       "  </thead>\n",
       "  <tbody>\n",
       "    <tr>\n",
       "      <th>count</th>\n",
       "      <td>54.000000</td>\n",
       "      <td>54.000000</td>\n",
       "    </tr>\n",
       "    <tr>\n",
       "      <th>mean</th>\n",
       "      <td>546503.555556</td>\n",
       "      <td>6.623148</td>\n",
       "    </tr>\n",
       "    <tr>\n",
       "      <th>std</th>\n",
       "      <td>48.645296</td>\n",
       "      <td>1.708427</td>\n",
       "    </tr>\n",
       "    <tr>\n",
       "      <th>min</th>\n",
       "      <td>546444.000000</td>\n",
       "      <td>2.580000</td>\n",
       "    </tr>\n",
       "    <tr>\n",
       "      <th>25%</th>\n",
       "      <td>546464.500000</td>\n",
       "      <td>5.500000</td>\n",
       "    </tr>\n",
       "    <tr>\n",
       "      <th>50%</th>\n",
       "      <td>546481.500000</td>\n",
       "      <td>6.495000</td>\n",
       "    </tr>\n",
       "    <tr>\n",
       "      <th>75%</th>\n",
       "      <td>546552.750000</td>\n",
       "      <td>7.367500</td>\n",
       "    </tr>\n",
       "    <tr>\n",
       "      <th>max</th>\n",
       "      <td>546588.000000</td>\n",
       "      <td>10.710000</td>\n",
       "    </tr>\n",
       "  </tbody>\n",
       "</table>\n",
       "</div>"
      ],
      "text/plain": [
       "             user_id  time_spent_on_the_page\n",
       "count      54.000000               54.000000\n",
       "mean   546503.555556                6.623148\n",
       "std        48.645296                1.708427\n",
       "min    546444.000000                2.580000\n",
       "25%    546464.500000                5.500000\n",
       "50%    546481.500000                6.495000\n",
       "75%    546552.750000                7.367500\n",
       "max    546588.000000               10.710000"
      ]
     },
     "execution_count": 277,
     "metadata": {},
     "output_type": "execute_result"
    }
   ],
   "source": [
    "groupconverted.describe()"
   ]
  },
  {
   "cell_type": "code",
   "execution_count": 278,
   "id": "721b682d",
   "metadata": {},
   "outputs": [],
   "source": [
    "groupnonconverted=data[data['converted']=='no']"
   ]
  },
  {
   "cell_type": "code",
   "execution_count": 279,
   "id": "77ce9fb3",
   "metadata": {},
   "outputs": [
    {
     "data": {
      "text/html": [
       "<div>\n",
       "<style scoped>\n",
       "    .dataframe tbody tr th:only-of-type {\n",
       "        vertical-align: middle;\n",
       "    }\n",
       "\n",
       "    .dataframe tbody tr th {\n",
       "        vertical-align: top;\n",
       "    }\n",
       "\n",
       "    .dataframe thead th {\n",
       "        text-align: right;\n",
       "    }\n",
       "</style>\n",
       "<table border=\"1\" class=\"dataframe\">\n",
       "  <thead>\n",
       "    <tr style=\"text-align: right;\">\n",
       "      <th></th>\n",
       "      <th>user_id</th>\n",
       "      <th>time_spent_on_the_page</th>\n",
       "    </tr>\n",
       "  </thead>\n",
       "  <tbody>\n",
       "    <tr>\n",
       "      <th>count</th>\n",
       "      <td>46.000000</td>\n",
       "      <td>46.000000</td>\n",
       "    </tr>\n",
       "    <tr>\n",
       "      <th>mean</th>\n",
       "      <td>546532.782609</td>\n",
       "      <td>3.915870</td>\n",
       "    </tr>\n",
       "    <tr>\n",
       "      <th>std</th>\n",
       "      <td>52.517474</td>\n",
       "      <td>2.226897</td>\n",
       "    </tr>\n",
       "    <tr>\n",
       "      <th>min</th>\n",
       "      <td>546443.000000</td>\n",
       "      <td>0.190000</td>\n",
       "    </tr>\n",
       "    <tr>\n",
       "      <th>25%</th>\n",
       "      <td>546481.000000</td>\n",
       "      <td>2.337500</td>\n",
       "    </tr>\n",
       "    <tr>\n",
       "      <th>50%</th>\n",
       "      <td>546561.500000</td>\n",
       "      <td>3.980000</td>\n",
       "    </tr>\n",
       "    <tr>\n",
       "      <th>75%</th>\n",
       "      <td>546573.750000</td>\n",
       "      <td>4.922500</td>\n",
       "    </tr>\n",
       "    <tr>\n",
       "      <th>max</th>\n",
       "      <td>546592.000000</td>\n",
       "      <td>9.150000</td>\n",
       "    </tr>\n",
       "  </tbody>\n",
       "</table>\n",
       "</div>"
      ],
      "text/plain": [
       "             user_id  time_spent_on_the_page\n",
       "count      46.000000               46.000000\n",
       "mean   546532.782609                3.915870\n",
       "std        52.517474                2.226897\n",
       "min    546443.000000                0.190000\n",
       "25%    546481.000000                2.337500\n",
       "50%    546561.500000                3.980000\n",
       "75%    546573.750000                4.922500\n",
       "max    546592.000000                9.150000"
      ]
     },
     "execution_count": 279,
     "metadata": {},
     "output_type": "execute_result"
    }
   ],
   "source": [
    "groupnonconverted.describe()"
   ]
  },
  {
   "cell_type": "code",
   "execution_count": 280,
   "id": "a093b663",
   "metadata": {},
   "outputs": [],
   "source": [
    "grLPNEW=data[data['landing_page']=='new']"
   ]
  },
  {
   "cell_type": "code",
   "execution_count": 281,
   "id": "f31689b6",
   "metadata": {},
   "outputs": [
    {
     "data": {
      "text/html": [
       "<div>\n",
       "<style scoped>\n",
       "    .dataframe tbody tr th:only-of-type {\n",
       "        vertical-align: middle;\n",
       "    }\n",
       "\n",
       "    .dataframe tbody tr th {\n",
       "        vertical-align: top;\n",
       "    }\n",
       "\n",
       "    .dataframe thead th {\n",
       "        text-align: right;\n",
       "    }\n",
       "</style>\n",
       "<table border=\"1\" class=\"dataframe\">\n",
       "  <thead>\n",
       "    <tr style=\"text-align: right;\">\n",
       "      <th></th>\n",
       "      <th>user_id</th>\n",
       "      <th>time_spent_on_the_page</th>\n",
       "    </tr>\n",
       "  </thead>\n",
       "  <tbody>\n",
       "    <tr>\n",
       "      <th>count</th>\n",
       "      <td>50.00000</td>\n",
       "      <td>50.000000</td>\n",
       "    </tr>\n",
       "    <tr>\n",
       "      <th>mean</th>\n",
       "      <td>546467.50000</td>\n",
       "      <td>6.223200</td>\n",
       "    </tr>\n",
       "    <tr>\n",
       "      <th>std</th>\n",
       "      <td>14.57738</td>\n",
       "      <td>1.817031</td>\n",
       "    </tr>\n",
       "    <tr>\n",
       "      <th>min</th>\n",
       "      <td>546443.00000</td>\n",
       "      <td>1.650000</td>\n",
       "    </tr>\n",
       "    <tr>\n",
       "      <th>25%</th>\n",
       "      <td>546455.25000</td>\n",
       "      <td>5.175000</td>\n",
       "    </tr>\n",
       "    <tr>\n",
       "      <th>50%</th>\n",
       "      <td>546467.50000</td>\n",
       "      <td>6.105000</td>\n",
       "    </tr>\n",
       "    <tr>\n",
       "      <th>75%</th>\n",
       "      <td>546479.75000</td>\n",
       "      <td>7.160000</td>\n",
       "    </tr>\n",
       "    <tr>\n",
       "      <th>max</th>\n",
       "      <td>546492.00000</td>\n",
       "      <td>10.710000</td>\n",
       "    </tr>\n",
       "  </tbody>\n",
       "</table>\n",
       "</div>"
      ],
      "text/plain": [
       "            user_id  time_spent_on_the_page\n",
       "count      50.00000               50.000000\n",
       "mean   546467.50000                6.223200\n",
       "std        14.57738                1.817031\n",
       "min    546443.00000                1.650000\n",
       "25%    546455.25000                5.175000\n",
       "50%    546467.50000                6.105000\n",
       "75%    546479.75000                7.160000\n",
       "max    546492.00000               10.710000"
      ]
     },
     "execution_count": 281,
     "metadata": {},
     "output_type": "execute_result"
    }
   ],
   "source": [
    "grLPNEW.describe()"
   ]
  },
  {
   "cell_type": "code",
   "execution_count": 282,
   "id": "c53c9c05",
   "metadata": {},
   "outputs": [],
   "source": [
    "grLPOLD=data[data['landing_page']=='old']"
   ]
  },
  {
   "cell_type": "code",
   "execution_count": 283,
   "id": "ebf41db9",
   "metadata": {},
   "outputs": [
    {
     "data": {
      "text/html": [
       "<div>\n",
       "<style scoped>\n",
       "    .dataframe tbody tr th:only-of-type {\n",
       "        vertical-align: middle;\n",
       "    }\n",
       "\n",
       "    .dataframe tbody tr th {\n",
       "        vertical-align: top;\n",
       "    }\n",
       "\n",
       "    .dataframe thead th {\n",
       "        text-align: right;\n",
       "    }\n",
       "</style>\n",
       "<table border=\"1\" class=\"dataframe\">\n",
       "  <thead>\n",
       "    <tr style=\"text-align: right;\">\n",
       "      <th></th>\n",
       "      <th>user_id</th>\n",
       "      <th>time_spent_on_the_page</th>\n",
       "    </tr>\n",
       "  </thead>\n",
       "  <tbody>\n",
       "    <tr>\n",
       "      <th>count</th>\n",
       "      <td>50.00000</td>\n",
       "      <td>50.000000</td>\n",
       "    </tr>\n",
       "    <tr>\n",
       "      <th>mean</th>\n",
       "      <td>546566.50000</td>\n",
       "      <td>4.532400</td>\n",
       "    </tr>\n",
       "    <tr>\n",
       "      <th>std</th>\n",
       "      <td>17.67767</td>\n",
       "      <td>2.581975</td>\n",
       "    </tr>\n",
       "    <tr>\n",
       "      <th>min</th>\n",
       "      <td>546493.00000</td>\n",
       "      <td>0.190000</td>\n",
       "    </tr>\n",
       "    <tr>\n",
       "      <th>25%</th>\n",
       "      <td>546555.25000</td>\n",
       "      <td>2.720000</td>\n",
       "    </tr>\n",
       "    <tr>\n",
       "      <th>50%</th>\n",
       "      <td>546567.50000</td>\n",
       "      <td>4.380000</td>\n",
       "    </tr>\n",
       "    <tr>\n",
       "      <th>75%</th>\n",
       "      <td>546579.75000</td>\n",
       "      <td>6.442500</td>\n",
       "    </tr>\n",
       "    <tr>\n",
       "      <th>max</th>\n",
       "      <td>546592.00000</td>\n",
       "      <td>10.300000</td>\n",
       "    </tr>\n",
       "  </tbody>\n",
       "</table>\n",
       "</div>"
      ],
      "text/plain": [
       "            user_id  time_spent_on_the_page\n",
       "count      50.00000               50.000000\n",
       "mean   546566.50000                4.532400\n",
       "std        17.67767                2.581975\n",
       "min    546493.00000                0.190000\n",
       "25%    546555.25000                2.720000\n",
       "50%    546567.50000                4.380000\n",
       "75%    546579.75000                6.442500\n",
       "max    546592.00000               10.300000"
      ]
     },
     "execution_count": 283,
     "metadata": {},
     "output_type": "execute_result"
    }
   ],
   "source": [
    "grLPOLD.describe()"
   ]
  },
  {
   "cell_type": "code",
   "execution_count": 284,
   "id": "b58b2a57",
   "metadata": {},
   "outputs": [
    {
     "data": {
      "text/html": [
       "<div>\n",
       "<style scoped>\n",
       "    .dataframe tbody tr th:only-of-type {\n",
       "        vertical-align: middle;\n",
       "    }\n",
       "\n",
       "    .dataframe tbody tr th {\n",
       "        vertical-align: top;\n",
       "    }\n",
       "\n",
       "    .dataframe thead th {\n",
       "        text-align: right;\n",
       "    }\n",
       "</style>\n",
       "<table border=\"1\" class=\"dataframe\">\n",
       "  <thead>\n",
       "    <tr style=\"text-align: right;\">\n",
       "      <th></th>\n",
       "      <th>user_id</th>\n",
       "      <th>group</th>\n",
       "      <th>landing_page</th>\n",
       "      <th>time_spent_on_the_page</th>\n",
       "      <th>converted</th>\n",
       "      <th>language_preferred</th>\n",
       "    </tr>\n",
       "  </thead>\n",
       "  <tbody>\n",
       "    <tr>\n",
       "      <th>0</th>\n",
       "      <td>546592</td>\n",
       "      <td>control</td>\n",
       "      <td>old</td>\n",
       "      <td>3.48</td>\n",
       "      <td>no</td>\n",
       "      <td>Spanish</td>\n",
       "    </tr>\n",
       "    <tr>\n",
       "      <th>3</th>\n",
       "      <td>546567</td>\n",
       "      <td>control</td>\n",
       "      <td>old</td>\n",
       "      <td>3.02</td>\n",
       "      <td>no</td>\n",
       "      <td>French</td>\n",
       "    </tr>\n",
       "    <tr>\n",
       "      <th>5</th>\n",
       "      <td>546558</td>\n",
       "      <td>control</td>\n",
       "      <td>old</td>\n",
       "      <td>5.28</td>\n",
       "      <td>yes</td>\n",
       "      <td>English</td>\n",
       "    </tr>\n",
       "    <tr>\n",
       "      <th>7</th>\n",
       "      <td>546581</td>\n",
       "      <td>control</td>\n",
       "      <td>old</td>\n",
       "      <td>6.53</td>\n",
       "      <td>yes</td>\n",
       "      <td>Spanish</td>\n",
       "    </tr>\n",
       "    <tr>\n",
       "      <th>9</th>\n",
       "      <td>546548</td>\n",
       "      <td>control</td>\n",
       "      <td>old</td>\n",
       "      <td>2.08</td>\n",
       "      <td>no</td>\n",
       "      <td>English</td>\n",
       "    </tr>\n",
       "  </tbody>\n",
       "</table>\n",
       "</div>"
      ],
      "text/plain": [
       "   user_id    group landing_page  time_spent_on_the_page converted  \\\n",
       "0   546592  control          old                    3.48        no   \n",
       "3   546567  control          old                    3.02        no   \n",
       "5   546558  control          old                    5.28       yes   \n",
       "7   546581  control          old                    6.53       yes   \n",
       "9   546548  control          old                    2.08        no   \n",
       "\n",
       "  language_preferred  \n",
       "0            Spanish  \n",
       "3             French  \n",
       "5            English  \n",
       "7            Spanish  \n",
       "9            English  "
      ]
     },
     "execution_count": 284,
     "metadata": {},
     "output_type": "execute_result"
    }
   ],
   "source": [
    "grLPOLD.head()"
   ]
  },
  {
   "cell_type": "markdown",
   "id": "72d36315",
   "metadata": {},
   "source": [
    "#  Bi- and multivariate analysis"
   ]
  },
  {
   "cell_type": "markdown",
   "id": "dd750110",
   "metadata": {},
   "source": [
    "\n",
    "I analyze firts the numerical variable- the time spent on the page using different \"hue\" value to visualize the full data. \n",
    "Later I analyse other variables (categorical) - with binomial character: landing page (new or old), converted (yes or no), and multinomial: language preferred (English,French,Spanish). \n",
    "I plot boxplots, histograms and KDE. \n"
   ]
  },
  {
   "cell_type": "markdown",
   "id": "9fbc40d3",
   "metadata": {},
   "source": [
    "### Visualization with respect to preferred language:"
   ]
  },
  {
   "cell_type": "code",
   "execution_count": 287,
   "id": "96c721a4",
   "metadata": {},
   "outputs": [
    {
     "data": {
      "text/plain": [
       "<seaborn.axisgrid.FacetGrid at 0x19fba668e20>"
      ]
     },
     "execution_count": 287,
     "metadata": {},
     "output_type": "execute_result"
    },
    {
     "data": {
      "image/png": "[encoded data removed]",
      "text/plain": [
       "<Figure size 466.125x360 with 1 Axes>"
      ]
     },
     "metadata": {
      "needs_background": "light"
     },
     "output_type": "display_data"
    }
   ],
   "source": [
    "sns.displot(data=data,x='time_spent_on_the_page',kind='kde',hue='language_preferred')"
   ]
  },
  {
   "cell_type": "markdown",
   "id": "024ffd2e",
   "metadata": {},
   "source": [
    "Conclusion: In full data one cannot see differences for average times spent on page  for different preferred language groups (English 32%,French 34%,Spanish 34%)"
   ]
  },
  {
   "cell_type": "markdown",
   "id": "48fb79dc",
   "metadata": {},
   "source": [
    "Visualization for categorical variables:"
   ]
  },
  {
   "cell_type": "code",
   "execution_count": 288,
   "id": "0448aa96",
   "metadata": {},
   "outputs": [
    {
     "data": {
      "text/plain": [
       "<seaborn.axisgrid.FacetGrid at 0x19fffae08b0>"
      ]
     },
     "execution_count": 288,
     "metadata": {},
     "output_type": "execute_result"
    },
    {
     "data": {
      "image/png": "[encoded data removed]",
      "text/plain": [
       "<Figure size 466.125x360 with 1 Axes>"
      ]
     },
     "metadata": {
      "needs_background": "light"
     },
     "output_type": "display_data"
    }
   ],
   "source": [
    "sns.displot(data=data, x=\"converted\", hue=\"language_preferred\", multiple=\"dodge\", shrink=.8,palette=\"winter\")"
   ]
  },
  {
   "cell_type": "markdown",
   "id": "c6aec644",
   "metadata": {},
   "source": [
    "There is a question number 3 relatedto this figure:Does the converted status dependsn preferred language.\n",
    "One can see differences in counts for each of the language, but without calculations  one cannot make definitive conclusion.   "
   ]
  },
  {
   "cell_type": "code",
   "execution_count": 289,
   "id": "b553d8ce",
   "metadata": {},
   "outputs": [
    {
     "data": {
      "text/plain": [
       "<AxesSubplot:xlabel='landing_page', ylabel='Count'>"
      ]
     },
     "execution_count": 289,
     "metadata": {},
     "output_type": "execute_result"
    },
    {
     "data": {
      "image/png": "[encoded data removed]",
      "text/plain": [
       "<Figure size 432x288 with 1 Axes>"
      ]
     },
     "metadata": {
      "needs_background": "light"
     },
     "output_type": "display_data"
    }
   ],
   "source": [
    "sns.histplot(data=data, x=\"landing_page\", hue=\"language_preferred\", multiple=\"dodge\", shrink=.8)"
   ]
  },
  {
   "cell_type": "code",
   "execution_count": 290,
   "id": "3d2b5570",
   "metadata": {},
   "outputs": [
    {
     "data": {
      "text/plain": [
       "<AxesSubplot:xlabel='time_spent_on_the_page', ylabel='Count'>"
      ]
     },
     "execution_count": 290,
     "metadata": {},
     "output_type": "execute_result"
    },
    {
     "data": {
      "image/png": "[encoded data removed]",
      "text/plain": [
       "<Figure size 432x288 with 1 Axes>"
      ]
     },
     "metadata": {
      "needs_background": "light"
     },
     "output_type": "display_data"
    }
   ],
   "source": [
    "sns.histplot(data=groupconverted, x=\"time_spent_on_the_page\", hue=\"language_preferred\", multiple=\"dodge\", shrink=.8)"
   ]
  },
  {
   "cell_type": "code",
   "execution_count": null,
   "id": "32269618",
   "metadata": {},
   "outputs": [],
   "source": []
  },
  {
   "cell_type": "code",
   "execution_count": 291,
   "id": "31251ce1",
   "metadata": {},
   "outputs": [
    {
     "data": {
      "text/plain": [
       "<AxesSubplot:xlabel='time_spent_on_the_page', ylabel='Count'>"
      ]
     },
     "execution_count": 291,
     "metadata": {},
     "output_type": "execute_result"
    },
    {
     "data": {
      "image/png": "[encoded data removed]",
      "text/plain": [
       "<Figure size 432x288 with 1 Axes>"
      ]
     },
     "metadata": {
      "needs_background": "light"
     },
     "output_type": "display_data"
    }
   ],
   "source": [
    "sns.histplot(data=groupnonconverted, x=\"time_spent_on_the_page\", hue=\"language_preferred\", multiple=\"dodge\", shrink=.8)"
   ]
  },
  {
   "cell_type": "code",
   "execution_count": 292,
   "id": "884f17d8",
   "metadata": {},
   "outputs": [
    {
     "data": {
      "text/plain": [
       "<AxesSubplot:xlabel='time_spent_on_the_page', ylabel='Count'>"
      ]
     },
     "execution_count": 292,
     "metadata": {},
     "output_type": "execute_result"
    },
    {
     "data": {
      "image/png": "[encoded data removed]",
      "text/plain": [
       "<Figure size 432x288 with 1 Axes>"
      ]
     },
     "metadata": {
      "needs_background": "light"
     },
     "output_type": "display_data"
    }
   ],
   "source": [
    "sns.histplot(data=groupcontrol, x=\"time_spent_on_the_page\", hue=\"language_preferred\", multiple=\"dodge\", kde=True,shrink=.8)"
   ]
  },
  {
   "cell_type": "markdown",
   "id": "79034719",
   "metadata": {},
   "source": [
    "Conclusion: In the \"control\" group (visiting old landing page) we see that distributions for different languages have diferent shapes. Without additional tests it is difficult to say someting based  only on visualization. "
   ]
  },
  {
   "cell_type": "code",
   "execution_count": 293,
   "id": "1b56823e",
   "metadata": {},
   "outputs": [
    {
     "data": {
      "text/plain": [
       "<AxesSubplot:xlabel='time_spent_on_the_page', ylabel='Count'>"
      ]
     },
     "execution_count": 293,
     "metadata": {},
     "output_type": "execute_result"
    },
    {
     "data": {
      "image/png": "[encoded data removed]",
      "text/plain": [
       "<Figure size 432x288 with 1 Axes>"
      ]
     },
     "metadata": {
      "needs_background": "light"
     },
     "output_type": "display_data"
    }
   ],
   "source": [
    "sns.histplot(data=grouptreatment, x=\"time_spent_on_the_page\", hue=\"language_preferred\", kde=True,multiple=\"dodge\", shrink=.8)"
   ]
  },
  {
   "cell_type": "markdown",
   "id": "6382f224",
   "metadata": {},
   "source": [
    "Figure: Average time spent on the new page for the 3 customer grups with different preferred language. Conclusion the differences are not significant enough to  say anything about average trends.  "
   ]
  },
  {
   "cell_type": "markdown",
   "id": "6c3febe4",
   "metadata": {},
   "source": [
    "For the \"treatment\" group (visiting new landing page)the distributions resemble normal distribution with mean between 4.5 nd 5.5 min. with different standard deviations."
   ]
  },
  {
   "cell_type": "code",
   "execution_count": 294,
   "id": "6c3fc05d",
   "metadata": {},
   "outputs": [
    {
     "data": {
      "text/plain": [
       "<AxesSubplot:xlabel='time_spent_on_the_page', ylabel='Count'>"
      ]
     },
     "execution_count": 294,
     "metadata": {},
     "output_type": "execute_result"
    },
    {
     "data": {
      "image/png": "[encoded data removed]",
      "text/plain": [
       "<Figure size 432x288 with 1 Axes>"
      ]
     },
     "metadata": {
      "needs_background": "light"
     },
     "output_type": "display_data"
    }
   ],
   "source": [
    "sns.histplot(data=grE, x=\"time_spent_on_the_page\", hue=\"converted\",kde=True, multiple=\"dodge\", shrink=.8)"
   ]
  },
  {
   "cell_type": "markdown",
   "id": "2fc69c19",
   "metadata": {},
   "source": [
    "Figure above - only for English preferred language sub-sample.\n",
    "Conclusion: In the English language group the visitors who converted to subsrcibing spent on average longer time on the page."
   ]
  },
  {
   "cell_type": "code",
   "execution_count": 295,
   "id": "c2c34415",
   "metadata": {},
   "outputs": [
    {
     "data": {
      "text/plain": [
       "<AxesSubplot:xlabel='time_spent_on_the_page', ylabel='Count'>"
      ]
     },
     "execution_count": 295,
     "metadata": {},
     "output_type": "execute_result"
    },
    {
     "data": {
      "image/png": "[encoded data removed]",
      "text/plain": [
       "<Figure size 432x288 with 1 Axes>"
      ]
     },
     "metadata": {
      "needs_background": "light"
     },
     "output_type": "display_data"
    }
   ],
   "source": [
    "sns.histplot(data=grS, x=\"time_spent_on_the_page\", hue=\"converted\", multiple=\"dodge\", kde=True,shrink=.8,palette='winter')"
   ]
  },
  {
   "cell_type": "markdown",
   "id": "b903f208",
   "metadata": {},
   "source": [
    "Conclusion: Spanish language group clearly those who converted to subsription on average spent longer time on the new page."
   ]
  },
  {
   "cell_type": "code",
   "execution_count": 296,
   "id": "c8654cc8",
   "metadata": {},
   "outputs": [
    {
     "data": {
      "text/plain": [
       "<AxesSubplot:xlabel='time_spent_on_the_page', ylabel='Count'>"
      ]
     },
     "execution_count": 296,
     "metadata": {},
     "output_type": "execute_result"
    },
    {
     "data": {
      "image/png": "[encoded data removed]",
      "text/plain": [
       "<Figure size 432x288 with 1 Axes>"
      ]
     },
     "metadata": {
      "needs_background": "light"
     },
     "output_type": "display_data"
    }
   ],
   "source": [
    "sns.histplot(data=grF, x=\"time_spent_on_the_page\", hue=\"converted\", multiple=\"dodge\", kde=True, shrink=.8)"
   ]
  },
  {
   "cell_type": "markdown",
   "id": "d1a44fd7",
   "metadata": {},
   "source": [
    "Conclusion: In the French laguage group, it is the same - those who converted to subsription on average spent longer time on the page."
   ]
  },
  {
   "cell_type": "code",
   "execution_count": 297,
   "id": "5face9cd",
   "metadata": {},
   "outputs": [
    {
     "data": {
      "image/png": "[encoded data removed]",
      "text/plain": [
       "<Figure size 432x324 with 3 Axes>"
      ]
     },
     "metadata": {
      "needs_background": "light"
     },
     "output_type": "display_data"
    }
   ],
   "source": [
    "g = sns.catplot(x=\"time_spent_on_the_page\", y=\"converted\", row=\"language_preferred\",\n",
    "                kind=\"box\", orient=\"h\", height=1.5, aspect=4,\n",
    "                data=data,palette='rocket')"
   ]
  },
  {
   "cell_type": "markdown",
   "id": "a1c942fe",
   "metadata": {},
   "source": [
    "Conclusion: In boxplot here we can see that average times spent on the web page  for those who converted to subscrption for all 3 languages is similar."
   ]
  },
  {
   "cell_type": "code",
   "execution_count": 298,
   "id": "58882b75",
   "metadata": {},
   "outputs": [
    {
     "data": {
      "image/png": "[encoded data removed]",
      "text/plain": [
       "<Figure size 432x216 with 2 Axes>"
      ]
     },
     "metadata": {
      "needs_background": "light"
     },
     "output_type": "display_data"
    }
   ],
   "source": [
    "g = sns.catplot(x=\"time_spent_on_the_page\", y=\"language_preferred\", row=\"converted\",\n",
    "                kind=\"box\", orient=\"h\", height=1.5, aspect=4,\n",
    "                data=data, palette='winter')"
   ]
  },
  {
   "cell_type": "markdown",
   "id": "97d4998a",
   "metadata": {},
   "source": [
    "It is the same figure - but one can more easily compare the averages, interquarile ranges in this view."
   ]
  },
  {
   "cell_type": "code",
   "execution_count": 299,
   "id": "ccda0816",
   "metadata": {},
   "outputs": [
    {
     "data": {
      "image/png": "[encoded data removed]",
      "text/plain": [
       "<Figure size 432x216 with 2 Axes>"
      ]
     },
     "metadata": {
      "needs_background": "light"
     },
     "output_type": "display_data"
    }
   ],
   "source": [
    "g = sns.catplot(x=\"time_spent_on_the_page\", y=\"landing_page\", row=\"converted\",\n",
    "                kind=\"box\", orient=\"h\", height=1.5, aspect=4,\n",
    "                data=data)"
   ]
  },
  {
   "cell_type": "code",
   "execution_count": 300,
   "id": "fe56da69",
   "metadata": {},
   "outputs": [
    {
     "data": {
      "image/png": "[encoded data removed]",
      "text/plain": [
       "<Figure size 432x216 with 2 Axes>"
      ]
     },
     "metadata": {
      "needs_background": "light"
     },
     "output_type": "display_data"
    }
   ],
   "source": [
    "g = sns.catplot(x=\"time_spent_on_the_page\", y=\"converted\", row=\"landing_page\",\n",
    "                kind=\"box\", orient=\"h\", height=1.5, aspect=4,\n",
    "                data=grE)"
   ]
  },
  {
   "cell_type": "markdown",
   "id": "4d505341",
   "metadata": {},
   "source": [
    "Figure for preferred language = English customers. Customers who visited new page and converted to subscription spent on average 1 min.longer than those who  visited the old page and 2min.longer than those who did not convert to subscription. "
   ]
  },
  {
   "cell_type": "code",
   "execution_count": 301,
   "id": "0d38724f",
   "metadata": {},
   "outputs": [
    {
     "data": {
      "image/png": "[encoded data removed]",
      "text/plain": [
       "<Figure size 432x216 with 2 Axes>"
      ]
     },
     "metadata": {
      "needs_background": "light"
     },
     "output_type": "display_data"
    }
   ],
   "source": [
    "g = sns.catplot(x=\"time_spent_on_the_page\", y=\"converted\", row=\"landing_page\",\n",
    "                kind=\"box\", orient=\"h\", height=1.5, aspect=4,\n",
    "                data=grS)"
   ]
  },
  {
   "cell_type": "markdown",
   "id": "81c2956a",
   "metadata": {},
   "source": [
    "Preferred language - Spanish. For customers who converted status to subscription similar average times spent on both new and old version of the landing page."
   ]
  },
  {
   "cell_type": "code",
   "execution_count": 302,
   "id": "378c70fb",
   "metadata": {},
   "outputs": [
    {
     "data": {
      "image/png": "[encoded data removed]",
      "text/plain": [
       "<Figure size 432x216 with 2 Axes>"
      ]
     },
     "metadata": {
      "needs_background": "light"
     },
     "output_type": "display_data"
    }
   ],
   "source": [
    "g = sns.catplot(x=\"time_spent_on_the_page\", y=\"converted\", row=\"landing_page\",\n",
    "                kind=\"box\", orient=\"h\", height=1.5, aspect=4,\n",
    "                data=grF)"
   ]
  },
  {
   "cell_type": "markdown",
   "id": "f63a342a",
   "metadata": {},
   "source": [
    "Preferred language - French: Qualitatively we see similar trend as for Spanish speaking sample."
   ]
  },
  {
   "cell_type": "markdown",
   "id": "f94fbb8b",
   "metadata": {},
   "source": [
    "# Contingency tables"
   ]
  },
  {
   "cell_type": "code",
   "execution_count": 303,
   "id": "5bd62c01",
   "metadata": {},
   "outputs": [
    {
     "data": {
      "text/html": [
       "<div>\n",
       "<style scoped>\n",
       "    .dataframe tbody tr th:only-of-type {\n",
       "        vertical-align: middle;\n",
       "    }\n",
       "\n",
       "    .dataframe tbody tr th {\n",
       "        vertical-align: top;\n",
       "    }\n",
       "\n",
       "    .dataframe thead th {\n",
       "        text-align: right;\n",
       "    }\n",
       "</style>\n",
       "<table border=\"1\" class=\"dataframe\">\n",
       "  <thead>\n",
       "    <tr style=\"text-align: right;\">\n",
       "      <th>language_preferred</th>\n",
       "      <th>English</th>\n",
       "      <th>French</th>\n",
       "      <th>Spanish</th>\n",
       "    </tr>\n",
       "    <tr>\n",
       "      <th>landing_page</th>\n",
       "      <th></th>\n",
       "      <th></th>\n",
       "      <th></th>\n",
       "    </tr>\n",
       "  </thead>\n",
       "  <tbody>\n",
       "    <tr>\n",
       "      <th>new</th>\n",
       "      <td>16</td>\n",
       "      <td>17</td>\n",
       "      <td>17</td>\n",
       "    </tr>\n",
       "    <tr>\n",
       "      <th>old</th>\n",
       "      <td>16</td>\n",
       "      <td>17</td>\n",
       "      <td>17</td>\n",
       "    </tr>\n",
       "  </tbody>\n",
       "</table>\n",
       "</div>"
      ],
      "text/plain": [
       "language_preferred  English  French  Spanish\n",
       "landing_page                                \n",
       "new                      16      17       17\n",
       "old                      16      17       17"
      ]
     },
     "execution_count": 303,
     "metadata": {},
     "output_type": "execute_result"
    }
   ],
   "source": [
    "pd.crosstab(data['landing_page'],data['language_preferred'])"
   ]
  },
  {
   "cell_type": "code",
   "execution_count": 304,
   "id": "a0c9b79e",
   "metadata": {},
   "outputs": [
    {
     "data": {
      "text/html": [
       "<div>\n",
       "<style scoped>\n",
       "    .dataframe tbody tr th:only-of-type {\n",
       "        vertical-align: middle;\n",
       "    }\n",
       "\n",
       "    .dataframe tbody tr th {\n",
       "        vertical-align: top;\n",
       "    }\n",
       "\n",
       "    .dataframe thead th {\n",
       "        text-align: right;\n",
       "    }\n",
       "</style>\n",
       "<table border=\"1\" class=\"dataframe\">\n",
       "  <thead>\n",
       "    <tr style=\"text-align: right;\">\n",
       "      <th>landing_page</th>\n",
       "      <th>new</th>\n",
       "      <th>old</th>\n",
       "    </tr>\n",
       "    <tr>\n",
       "      <th>converted</th>\n",
       "      <th></th>\n",
       "      <th></th>\n",
       "    </tr>\n",
       "  </thead>\n",
       "  <tbody>\n",
       "    <tr>\n",
       "      <th>no</th>\n",
       "      <td>17</td>\n",
       "      <td>29</td>\n",
       "    </tr>\n",
       "    <tr>\n",
       "      <th>yes</th>\n",
       "      <td>33</td>\n",
       "      <td>21</td>\n",
       "    </tr>\n",
       "  </tbody>\n",
       "</table>\n",
       "</div>"
      ],
      "text/plain": [
       "landing_page  new  old\n",
       "converted             \n",
       "no             17   29\n",
       "yes            33   21"
      ]
     },
     "execution_count": 304,
     "metadata": {},
     "output_type": "execute_result"
    }
   ],
   "source": [
    "pd.crosstab(data['converted'],data['landing_page'])  #I repeat this later insection with inferential stat questions."
   ]
  },
  {
   "cell_type": "code",
   "execution_count": 319,
   "id": "f7557c56",
   "metadata": {},
   "outputs": [
    {
     "data": {
      "text/html": [
       "<div>\n",
       "<style scoped>\n",
       "    .dataframe tbody tr th:only-of-type {\n",
       "        vertical-align: middle;\n",
       "    }\n",
       "\n",
       "    .dataframe tbody tr th {\n",
       "        vertical-align: top;\n",
       "    }\n",
       "\n",
       "    .dataframe thead th {\n",
       "        text-align: right;\n",
       "    }\n",
       "</style>\n",
       "<table border=\"1\" class=\"dataframe\">\n",
       "  <thead>\n",
       "    <tr style=\"text-align: right;\">\n",
       "      <th>language_preferred</th>\n",
       "      <th>English</th>\n",
       "      <th>French</th>\n",
       "      <th>Spanish</th>\n",
       "    </tr>\n",
       "    <tr>\n",
       "      <th>converted</th>\n",
       "      <th></th>\n",
       "      <th></th>\n",
       "      <th></th>\n",
       "    </tr>\n",
       "  </thead>\n",
       "  <tbody>\n",
       "    <tr>\n",
       "      <th>no</th>\n",
       "      <td>11</td>\n",
       "      <td>19</td>\n",
       "      <td>16</td>\n",
       "    </tr>\n",
       "    <tr>\n",
       "      <th>yes</th>\n",
       "      <td>21</td>\n",
       "      <td>15</td>\n",
       "      <td>18</td>\n",
       "    </tr>\n",
       "  </tbody>\n",
       "</table>\n",
       "</div>"
      ],
      "text/plain": [
       "language_preferred  English  French  Spanish\n",
       "converted                                   \n",
       "no                       11      19       16\n",
       "yes                      21      15       18"
      ]
     },
     "execution_count": 319,
     "metadata": {},
     "output_type": "execute_result"
    }
   ],
   "source": [
    "pd.crosstab(data['converted'],data['language_preferred'])\n"
   ]
  },
  {
   "cell_type": "markdown",
   "id": "1efdadd9",
   "metadata": {},
   "source": [
    "### Barplots"
   ]
  },
  {
   "cell_type": "markdown",
   "id": "fdc7ff7f",
   "metadata": {},
   "source": [
    "To make sure I did not miss a trend I plot barplot type figures.  "
   ]
  },
  {
   "cell_type": "code",
   "execution_count": 306,
   "id": "7541b789",
   "metadata": {},
   "outputs": [
    {
     "data": {
      "text/plain": [
       "<AxesSubplot:xlabel='converted', ylabel='count'>"
      ]
     },
     "execution_count": 306,
     "metadata": {},
     "output_type": "execute_result"
    },
    {
     "data": {
      "image/png": "[encoded data removed]",
      "text/plain": [
       "<Figure size 432x288 with 1 Axes>"
      ]
     },
     "metadata": {
      "needs_background": "light"
     },
     "output_type": "display_data"
    }
   ],
   "source": [
    "sns.countplot(x='converted',data=data,hue='landing_page')"
   ]
  },
  {
   "cell_type": "code",
   "execution_count": 307,
   "id": "6060113a",
   "metadata": {},
   "outputs": [
    {
     "data": {
      "text/plain": [
       "<AxesSubplot:xlabel='converted', ylabel='count'>"
      ]
     },
     "execution_count": 307,
     "metadata": {},
     "output_type": "execute_result"
    },
    {
     "data": {
      "image/png": "[encoded data removed]",
      "text/plain": [
       "<Figure size 432x288 with 1 Axes>"
      ]
     },
     "metadata": {
      "needs_background": "light"
     },
     "output_type": "display_data"
    }
   ],
   "source": [
    "sns.countplot(x='converted',data=data,hue='language_preferred')"
   ]
  },
  {
   "cell_type": "code",
   "execution_count": 308,
   "id": "bc413390",
   "metadata": {},
   "outputs": [
    {
     "data": {
      "text/plain": [
       "<AxesSubplot:xlabel='language_preferred', ylabel='time_spent_on_the_page'>"
      ]
     },
     "execution_count": 308,
     "metadata": {},
     "output_type": "execute_result"
    },
    {
     "data": {
      "image/png": "[encoded data removed]",
      "text/plain": [
       "<Figure size 432x288 with 1 Axes>"
      ]
     },
     "metadata": {
      "needs_background": "light"
     },
     "output_type": "display_data"
    }
   ],
   "source": [
    "sns.barplot(x='language_preferred', y='time_spent_on_the_page', data=data,hue='converted')  # barplot"
   ]
  },
  {
   "cell_type": "code",
   "execution_count": 309,
   "id": "11c607b7",
   "metadata": {},
   "outputs": [
    {
     "data": {
      "text/plain": [
       "<AxesSubplot:xlabel='language_preferred', ylabel='time_spent_on_the_page'>"
      ]
     },
     "execution_count": 309,
     "metadata": {},
     "output_type": "execute_result"
    },
    {
     "data": {
      "image/png": "[encoded data removed]",
      "text/plain": [
       "<Figure size 432x288 with 1 Axes>"
      ]
     },
     "metadata": {
      "needs_background": "light"
     },
     "output_type": "display_data"
    }
   ],
   "source": [
    "sns.barplot(x='language_preferred', y='time_spent_on_the_page', data=data,hue='landing_page',palette='winter')  # barplot"
   ]
  },
  {
   "cell_type": "code",
   "execution_count": 310,
   "id": "8fdba4ab",
   "metadata": {},
   "outputs": [
    {
     "data": {
      "text/plain": [
       "<seaborn.axisgrid.FacetGrid at 0x19fbe553dc0>"
      ]
     },
     "execution_count": 310,
     "metadata": {},
     "output_type": "execute_result"
    },
    {
     "data": {
      "image/png": "[encoded data removed]",
      "text/plain": [
       "<Figure size 466.125x360 with 1 Axes>"
      ]
     },
     "metadata": {
      "needs_background": "light"
     },
     "output_type": "display_data"
    }
   ],
   "source": [
    "sns.catplot(x=\"group\", y=\"time_spent_on_the_page\", hue=\"language_preferred\", kind=\"box\", data=data)"
   ]
  },
  {
   "cell_type": "code",
   "execution_count": 311,
   "id": "605a4250",
   "metadata": {},
   "outputs": [
    {
     "data": {
      "text/plain": [
       "<seaborn.axisgrid.FacetGrid at 0x19fbff3e2b0>"
      ]
     },
     "execution_count": 311,
     "metadata": {},
     "output_type": "execute_result"
    },
    {
     "data": {
      "image/png": "[encoded data removed]",
      "text/plain": [
       "<Figure size 466.125x360 with 1 Axes>"
      ]
     },
     "metadata": {
      "needs_background": "light"
     },
     "output_type": "display_data"
    }
   ],
   "source": [
    "sns.catplot(x=\"converted\", y=\"time_spent_on_the_page\", hue=\"language_preferred\", kind=\"box\", data=data)"
   ]
  },
  {
   "cell_type": "markdown",
   "id": "738e72e4",
   "metadata": {},
   "source": [
    "To study if average time spent on page depends on language I check the averages are different:"
   ]
  },
  {
   "cell_type": "code",
   "execution_count": 313,
   "id": "1e384362",
   "metadata": {},
   "outputs": [
    {
     "data": {
      "text/plain": [
       "landing_page  language_preferred\n",
       "new           English               6.663750\n",
       "              French                6.196471\n",
       "              Spanish               5.835294\n",
       "old           English               4.454375\n",
       "              French                4.310000\n",
       "              Spanish               4.828235\n",
       "Name: time_spent_on_the_page, dtype: float64"
      ]
     },
     "execution_count": 313,
     "metadata": {},
     "output_type": "execute_result"
    }
   ],
   "source": [
    "# Check if the trend is similar across Usage/Fitness etc.\n",
    "data.groupby(by = ['landing_page','language_preferred'])['time_spent_on_the_page'].mean()"
   ]
  },
  {
   "cell_type": "markdown",
   "id": "ad361e75",
   "metadata": {},
   "source": [
    "### Conclusions"
   ]
  },
  {
   "cell_type": "markdown",
   "id": "8bccc365",
   "metadata": {},
   "source": [
    "Based on EDA:\n",
    "* Distributions for time spent on the page for new and old pages look different. This suggest a trend: customers visitng newpage spent more time \n",
    "    on the page\n",
    "    \n",
    "* Distributions for times spent on the page when considering preferred language - do not look very diferent. This suggest the time spent on the page does not depend on the preferred language.\n",
    "\n",
    "* Distribution for time spent on the page for the 2 groups of converted and  not converted to subscription look different. \n",
    "* Converted status seems to depend on preferred language. One can see differences in counts for each of the language, but without calculations one cannot make definitive conclusion. \n",
    "\n",
    "* Preferred language-Eglish group: Customers who visited new page and converted to subscription spent on average 1 min.longer than those who visited the old page and 2min. longer than those who did not convert to subscription. Spanish and French language groups have different trend.\n",
    "* In the \"control\" group (visiting old landing page) we see that distributions for different languages have diferent shapes. Without additional tests it is difficult to say someting based on only visualization. \n",
    "* Average time spent on the new page for the 3 customer grups with different preferred language. Conclusion the differences are not significant enough to  say anything about average trends.  \n",
    "* Average times spent on the web page for those who converted to subscrption for all 3 languages is similar."
   ]
  },
  {
   "cell_type": "markdown",
   "id": "d941542d",
   "metadata": {},
   "source": [
    "# B. Inferential statistics part: questions,calculations,answers"
   ]
  },
  {
   "cell_type": "markdown",
   "id": "846efa36",
   "metadata": {},
   "source": [
    "# Q.2: Do the users spend more time on the new landing page than the old landing page?"
   ]
  },
  {
   "cell_type": "markdown",
   "id": "2afd8da2",
   "metadata": {},
   "source": [
    "### Independent two-sample t-test: "
   ]
  },
  {
   "cell_type": "markdown",
   "id": "04046aa6",
   "metadata": {},
   "source": [
    "* First formulate the null and alternate hypothesis.\n",
    "\n",
    "𝐻0\n",
    ": 𝜇1=𝜇2 (average time spent new landing page = average time spent on old landing page)\n",
    "\n",
    "\n",
    "𝐻𝑎\n",
    ": 𝜇1≠𝜇2, There is a difference between times.\n",
    "\n",
    "* Then we calculate the test-statistic and based on the p-value provide a conclusion.\n",
    "\n",
    "Store relevant data in 2 dataframes grLPNEW and grLPOLD"
   ]
  },
  {
   "cell_type": "code",
   "execution_count": 320,
   "id": "7e70783e",
   "metadata": {},
   "outputs": [
    {
     "data": {
      "text/plain": [
       "((50, 6),)"
      ]
     },
     "execution_count": 320,
     "metadata": {},
     "output_type": "execute_result"
    }
   ],
   "source": [
    "grLPNEW.shape,"
   ]
  },
  {
   "cell_type": "markdown",
   "id": "7faf0e88",
   "metadata": {},
   "source": [
    "grLPNEW is dataframe that contains data for new landing page "
   ]
  },
  {
   "cell_type": "code",
   "execution_count": 321,
   "id": "c77539e7",
   "metadata": {},
   "outputs": [
    {
     "data": {
      "text/html": [
       "<div>\n",
       "<style scoped>\n",
       "    .dataframe tbody tr th:only-of-type {\n",
       "        vertical-align: middle;\n",
       "    }\n",
       "\n",
       "    .dataframe tbody tr th {\n",
       "        vertical-align: top;\n",
       "    }\n",
       "\n",
       "    .dataframe thead th {\n",
       "        text-align: right;\n",
       "    }\n",
       "</style>\n",
       "<table border=\"1\" class=\"dataframe\">\n",
       "  <thead>\n",
       "    <tr style=\"text-align: right;\">\n",
       "      <th></th>\n",
       "      <th>user_id</th>\n",
       "      <th>time_spent_on_the_page</th>\n",
       "    </tr>\n",
       "  </thead>\n",
       "  <tbody>\n",
       "    <tr>\n",
       "      <th>count</th>\n",
       "      <td>50.00000</td>\n",
       "      <td>50.000000</td>\n",
       "    </tr>\n",
       "    <tr>\n",
       "      <th>mean</th>\n",
       "      <td>546467.50000</td>\n",
       "      <td>6.223200</td>\n",
       "    </tr>\n",
       "    <tr>\n",
       "      <th>std</th>\n",
       "      <td>14.57738</td>\n",
       "      <td>1.817031</td>\n",
       "    </tr>\n",
       "    <tr>\n",
       "      <th>min</th>\n",
       "      <td>546443.00000</td>\n",
       "      <td>1.650000</td>\n",
       "    </tr>\n",
       "    <tr>\n",
       "      <th>25%</th>\n",
       "      <td>546455.25000</td>\n",
       "      <td>5.175000</td>\n",
       "    </tr>\n",
       "    <tr>\n",
       "      <th>50%</th>\n",
       "      <td>546467.50000</td>\n",
       "      <td>6.105000</td>\n",
       "    </tr>\n",
       "    <tr>\n",
       "      <th>75%</th>\n",
       "      <td>546479.75000</td>\n",
       "      <td>7.160000</td>\n",
       "    </tr>\n",
       "    <tr>\n",
       "      <th>max</th>\n",
       "      <td>546492.00000</td>\n",
       "      <td>10.710000</td>\n",
       "    </tr>\n",
       "  </tbody>\n",
       "</table>\n",
       "</div>"
      ],
      "text/plain": [
       "            user_id  time_spent_on_the_page\n",
       "count      50.00000               50.000000\n",
       "mean   546467.50000                6.223200\n",
       "std        14.57738                1.817031\n",
       "min    546443.00000                1.650000\n",
       "25%    546455.25000                5.175000\n",
       "50%    546467.50000                6.105000\n",
       "75%    546479.75000                7.160000\n",
       "max    546492.00000               10.710000"
      ]
     },
     "execution_count": 321,
     "metadata": {},
     "output_type": "execute_result"
    }
   ],
   "source": [
    "grLPNEW.describe()"
   ]
  },
  {
   "cell_type": "code",
   "execution_count": 322,
   "id": "811c3d09",
   "metadata": {},
   "outputs": [
    {
     "data": {
      "text/plain": [
       "(50, 6)"
      ]
     },
     "execution_count": 322,
     "metadata": {},
     "output_type": "execute_result"
    }
   ],
   "source": [
    "grLPOLD.shape"
   ]
  },
  {
   "cell_type": "markdown",
   "id": "eb1f05d1",
   "metadata": {},
   "source": [
    "grLPOLD is data frame that contains the data for old landing page."
   ]
  },
  {
   "cell_type": "code",
   "execution_count": 323,
   "id": "39cf20b7",
   "metadata": {},
   "outputs": [
    {
     "data": {
      "text/html": [
       "<div>\n",
       "<style scoped>\n",
       "    .dataframe tbody tr th:only-of-type {\n",
       "        vertical-align: middle;\n",
       "    }\n",
       "\n",
       "    .dataframe tbody tr th {\n",
       "        vertical-align: top;\n",
       "    }\n",
       "\n",
       "    .dataframe thead th {\n",
       "        text-align: right;\n",
       "    }\n",
       "</style>\n",
       "<table border=\"1\" class=\"dataframe\">\n",
       "  <thead>\n",
       "    <tr style=\"text-align: right;\">\n",
       "      <th></th>\n",
       "      <th>user_id</th>\n",
       "      <th>time_spent_on_the_page</th>\n",
       "    </tr>\n",
       "  </thead>\n",
       "  <tbody>\n",
       "    <tr>\n",
       "      <th>count</th>\n",
       "      <td>50.00000</td>\n",
       "      <td>50.000000</td>\n",
       "    </tr>\n",
       "    <tr>\n",
       "      <th>mean</th>\n",
       "      <td>546566.50000</td>\n",
       "      <td>4.532400</td>\n",
       "    </tr>\n",
       "    <tr>\n",
       "      <th>std</th>\n",
       "      <td>17.67767</td>\n",
       "      <td>2.581975</td>\n",
       "    </tr>\n",
       "    <tr>\n",
       "      <th>min</th>\n",
       "      <td>546493.00000</td>\n",
       "      <td>0.190000</td>\n",
       "    </tr>\n",
       "    <tr>\n",
       "      <th>25%</th>\n",
       "      <td>546555.25000</td>\n",
       "      <td>2.720000</td>\n",
       "    </tr>\n",
       "    <tr>\n",
       "      <th>50%</th>\n",
       "      <td>546567.50000</td>\n",
       "      <td>4.380000</td>\n",
       "    </tr>\n",
       "    <tr>\n",
       "      <th>75%</th>\n",
       "      <td>546579.75000</td>\n",
       "      <td>6.442500</td>\n",
       "    </tr>\n",
       "    <tr>\n",
       "      <th>max</th>\n",
       "      <td>546592.00000</td>\n",
       "      <td>10.300000</td>\n",
       "    </tr>\n",
       "  </tbody>\n",
       "</table>\n",
       "</div>"
      ],
      "text/plain": [
       "            user_id  time_spent_on_the_page\n",
       "count      50.00000               50.000000\n",
       "mean   546566.50000                4.532400\n",
       "std        17.67767                2.581975\n",
       "min    546493.00000                0.190000\n",
       "25%    546555.25000                2.720000\n",
       "50%    546567.50000                4.380000\n",
       "75%    546579.75000                6.442500\n",
       "max    546592.00000               10.300000"
      ]
     },
     "execution_count": 323,
     "metadata": {},
     "output_type": "execute_result"
    }
   ],
   "source": [
    "grLPOLD.describe()"
   ]
  },
  {
   "cell_type": "code",
   "execution_count": 324,
   "id": "ed5800d2",
   "metadata": {},
   "outputs": [
    {
     "name": "stdout",
     "output_type": "stream",
     "text": [
      "The mean time spent of the page for old landing page 4.53\n",
      "The mean  time spent of the page for new landing page 6.2232\n",
      "The standard deviation of time spent of the page for old landing page 2.58\n",
      "The standard deviation of time spent of the page for new landing page 1.82\n"
     ]
    }
   ],
   "source": [
    "print('The mean time spent of the page for old landing page ' + str(round(grLPOLD['time_spent_on_the_page'].mean(),2)))\n",
    "print('The mean  time spent of the page for new landing page ' + str(grLPNEW['time_spent_on_the_page'].mean()))\n",
    "print('The standard deviation of time spent of the page for old landing page ' + str(round(grLPOLD['time_spent_on_the_page'].std(), 2)))\n",
    "print('The standard deviation of time spent of the page for new landing page ' + str(round(grLPNEW['time_spent_on_the_page'].std(), 2)))"
   ]
  },
  {
   "cell_type": "markdown",
   "id": "75830468",
   "metadata": {},
   "source": [
    "As we can see we have different average times and different standard deviations."
   ]
  },
  {
   "cell_type": "markdown",
   "id": "9c9f9fdf",
   "metadata": {},
   "source": [
    "I use two sample independent t-test (we have 2 samples, continues variable,one-way)"
   ]
  },
  {
   "cell_type": "code",
   "execution_count": 325,
   "id": "1c2ded7c",
   "metadata": {},
   "outputs": [
    {
     "name": "stdout",
     "output_type": "stream",
     "text": [
      "tstat =  3.7867702694199856 , p_value =  0.0001392381225166549\n"
     ]
    }
   ],
   "source": [
    "from scipy import stats\n",
    "x1=grLPOLD['time_spent_on_the_page']\n",
    "#x1\n",
    "x2=grLPNEW['time_spent_on_the_page']\n",
    "t, p_value = stats.ttest_ind(x2, x1,equal_var=False, alternative='greater')\n",
    "print(\"tstat = \",t, \", p_value = \", p_value)"
   ]
  },
  {
   "cell_type": "markdown",
   "id": "763ef770",
   "metadata": {},
   "source": [
    "The question we have to answer is if differences in averages are due to sampling or are significant. "
   ]
  },
  {
   "cell_type": "markdown",
   "id": "82cb692a",
   "metadata": {},
   "source": [
    "* p value is 0.00014 which is smaller than level of significance (0.05) so the null hypothesis can be rejected. \n",
    "\n",
    "* Conclusion: \n",
    "    The users spend more time on the new landing page.(The observation is valid and not due to sampling error)."
   ]
  },
  {
   "cell_type": "markdown",
   "id": "5e40eb1b",
   "metadata": {},
   "source": [
    "* This means that the new  page changed the output significantly.\n",
    "\n",
    "* If we compare the means of the two sample distributions, we see that they are different numerically,statistically and visually.Inferential statistics results confirm the first impression conclusions from visualization.\n",
    "\n",
    "    "
   ]
  },
  {
   "cell_type": "markdown",
   "id": "08d518ed",
   "metadata": {},
   "source": [
    "Below I copy the relevant visualization:"
   ]
  },
  {
   "cell_type": "code",
   "execution_count": 187,
   "id": "c21ebb74",
   "metadata": {},
   "outputs": [
    {
     "data": {
      "text/plain": [
       "<seaborn.axisgrid.FacetGrid at 0x19fbb948e50>"
      ]
     },
     "execution_count": 187,
     "metadata": {},
     "output_type": "execute_result"
    },
    {
     "data": {
      "image/png": "[encoded data removed]",
      "text/plain": [
       "<Figure size 435.25x360 with 1 Axes>"
      ]
     },
     "metadata": {
      "needs_background": "light"
     },
     "output_type": "display_data"
    }
   ],
   "source": [
    "sns.displot(data,x='time_spent_on_the_page',hue='landing_page',kde=True,common_norm=False,element=\"step\")"
   ]
  },
  {
   "cell_type": "markdown",
   "id": "5bef9a81",
   "metadata": {},
   "source": [
    "###  Additional check of the assumptions of the two sample t test"
   ]
  },
  {
   "cell_type": "markdown",
   "id": "84966a32",
   "metadata": {},
   "source": [
    "One of the assumptions of the 2 sample t-test is normality of distributions - below I test the 2 samples for it."
   ]
  },
  {
   "cell_type": "markdown",
   "id": "5e40cacf",
   "metadata": {},
   "source": [
    "I use Shapiro-Wilk test:\n",
    "Null hypothesis - the distribution is normal.\n",
    "Alternative hypothesis the dstribution of the data in a sample is not normal. "
   ]
  },
  {
   "cell_type": "code",
   "execution_count": 188,
   "id": "f52d34a3",
   "metadata": {},
   "outputs": [
    {
     "name": "stdout",
     "output_type": "stream",
     "text": [
      "The p-value is 0.8040016293525696\n"
     ]
    }
   ],
   "source": [
    "# Assumption 1: Normality\n",
    "# Use the shapiro function for the scipy.stats library for this test\n",
    "\n",
    "# find the p-value\n",
    "w, p_value = stats.shapiro(grLPNEW['time_spent_on_the_page']) \n",
    "print('The p-value is', p_value)"
   ]
  },
  {
   "cell_type": "code",
   "execution_count": 189,
   "id": "a437a16f",
   "metadata": {
    "scrolled": true
   },
   "outputs": [
    {
     "name": "stdout",
     "output_type": "stream",
     "text": [
      "The p-value is 0.45611920952796936\n"
     ]
    }
   ],
   "source": [
    "# Assumption 1: Normality\n",
    "# Use the shapiro function for the scipy.stats library for this test\n",
    "\n",
    "# find the p-value\n",
    "w, p_value = stats.shapiro(grLPOLD['time_spent_on_the_page']) \n",
    "print('The p-value is', p_value)"
   ]
  },
  {
   "cell_type": "markdown",
   "id": "409a7e46",
   "metadata": {},
   "source": [
    "* Since p-value of the test is very large than the 5% significance level, we fail to reject the null hypothesis that the response follows the normal distribution."
   ]
  },
  {
   "cell_type": "markdown",
   "id": "56d0a602",
   "metadata": {},
   "source": [
    "* Conclusion the samples follow normal distribution. "
   ]
  },
  {
   "cell_type": "markdown",
   "id": "33de25ba",
   "metadata": {},
   "source": [
    "I perform now the Levene’s test for variances:\n",
    "\n",
    "We will test the null hypothesis - 𝐻0 : the variances are equal\n",
    "\n",
    "against the alternative hypothesis: 𝐻𝑎 : variances are different from the rest"
   ]
  },
  {
   "cell_type": "code",
   "execution_count": 326,
   "id": "aa01b163",
   "metadata": {},
   "outputs": [
    {
     "name": "stdout",
     "output_type": "stream",
     "text": [
      "The p-value is 0.008950671168914445\n"
     ]
    }
   ],
   "source": [
    "#Assumption 2: Homogeneity of Variance\n",
    "# use levene function from scipy.stats library for this test\n",
    "\n",
    "# find the p-value\n",
    "statistic, p_value = stats.levene(grLPNEW['time_spent_on_the_page'],grLPOLD['time_spent_on_the_page'])\n",
    "print('The p-value is', p_value)"
   ]
  },
  {
   "cell_type": "markdown",
   "id": "cfa92c2b",
   "metadata": {},
   "source": [
    "* p is 0.009 which is smaller than confidence level 0.05.\n",
    "\n",
    "* We can reject null hypothesis that the variances are equal (because of that I used the Welchs testfor t-test function). (Well I know the variances from the data that they are different, as well)."
   ]
  },
  {
   "cell_type": "markdown",
   "id": "6eba64f7",
   "metadata": {},
   "source": [
    "# Q3. Is the conversion rate (the proportion of users who visit the landing page and get converted) for the new page greater than the conversion rate for the old page?"
   ]
  },
  {
   "cell_type": "markdown",
   "id": "549e26ea",
   "metadata": {},
   "source": [
    "I create a contingency table using the pandas.crosstab() function"
   ]
  },
  {
   "cell_type": "code",
   "execution_count": 327,
   "id": "8a236511",
   "metadata": {},
   "outputs": [
    {
     "data": {
      "text/html": [
       "<div>\n",
       "<style scoped>\n",
       "    .dataframe tbody tr th:only-of-type {\n",
       "        vertical-align: middle;\n",
       "    }\n",
       "\n",
       "    .dataframe tbody tr th {\n",
       "        vertical-align: top;\n",
       "    }\n",
       "\n",
       "    .dataframe thead th {\n",
       "        text-align: right;\n",
       "    }\n",
       "</style>\n",
       "<table border=\"1\" class=\"dataframe\">\n",
       "  <thead>\n",
       "    <tr style=\"text-align: right;\">\n",
       "      <th>landing_page</th>\n",
       "      <th>new</th>\n",
       "      <th>old</th>\n",
       "    </tr>\n",
       "    <tr>\n",
       "      <th>converted</th>\n",
       "      <th></th>\n",
       "      <th></th>\n",
       "    </tr>\n",
       "  </thead>\n",
       "  <tbody>\n",
       "    <tr>\n",
       "      <th>no</th>\n",
       "      <td>17</td>\n",
       "      <td>29</td>\n",
       "    </tr>\n",
       "    <tr>\n",
       "      <th>yes</th>\n",
       "      <td>33</td>\n",
       "      <td>21</td>\n",
       "    </tr>\n",
       "  </tbody>\n",
       "</table>\n",
       "</div>"
      ],
      "text/plain": [
       "landing_page  new  old\n",
       "converted             \n",
       "no             17   29\n",
       "yes            33   21"
      ]
     },
     "execution_count": 327,
     "metadata": {},
     "output_type": "execute_result"
    }
   ],
   "source": [
    "pd.crosstab(data['converted'],data['landing_page'])"
   ]
  },
  {
   "cell_type": "markdown",
   "id": "09aece43",
   "metadata": {},
   "source": [
    "Conversion rate:\n",
    "\n",
    "C_new=33/50  \n",
    "C_old=21/50"
   ]
  },
  {
   "cell_type": "markdown",
   "id": "069df40c",
   "metadata": {},
   "source": [
    "### Statistical analysis"
   ]
  },
  {
   "cell_type": "markdown",
   "id": "54fe8f49",
   "metadata": {},
   "source": [
    "First I define null and alternative hypotheses\n",
    "\n",
    "𝐻0:Conversion rate is the same for both versions of landing page.\n",
    "\n",
    "𝐻𝑎: Conversion rate is greater for new landing page. C_new > C_old"
   ]
  },
  {
   "cell_type": "markdown",
   "id": "86bd7009",
   "metadata": {},
   "source": [
    "### Two proportion Z- test"
   ]
  },
  {
   "cell_type": "markdown",
   "id": "5fcedb05",
   "metadata": {},
   "source": [
    "Z-test assumptions:\n",
    "* Binomally distributed population - yes  (conversion variable can have values 'yes'or 'no')\n",
    "* Random sampling from the population - yes\n",
    "*  The standard thing is to check whether np and n(1-p) are greater than or equal to 10. - yes"
   ]
  },
  {
   "cell_type": "code",
   "execution_count": 241,
   "id": "b644c864",
   "metadata": {},
   "outputs": [
    {
     "name": "stdout",
     "output_type": "stream",
     "text": [
      "0.008026308204056278\n"
     ]
    }
   ],
   "source": [
    "import numpy as np\n",
    "from statsmodels.stats.proportion import proportions_ztest\n",
    "\n",
    "# set the counts of converted to subscription\n",
    "x1 = np.array([33, 21])\n",
    "\n",
    "# set the sample sizes \n",
    "x2 = np.array([50, 50])\n",
    "\n",
    "# find the p-value\n",
    "test_stat, p_value = proportions_ztest(x1, x2,alternative='larger')\n",
    "print(p_value)"
   ]
  },
  {
   "cell_type": "markdown",
   "id": "42fbcca1",
   "metadata": {},
   "source": [
    "p value = 0.8% < 5% so we can reject null hypothesis that the proportions are the same, and we can conclude that conversion rate on new page is larger.  "
   ]
  },
  {
   "cell_type": "markdown",
   "id": "98968bf0",
   "metadata": {},
   "source": [
    "### Visualization of the data"
   ]
  },
  {
   "cell_type": "markdown",
   "id": "4473ecb7",
   "metadata": {},
   "source": [
    "For this question I copy below relevant figure: "
   ]
  },
  {
   "cell_type": "code",
   "execution_count": 328,
   "id": "f6f35f68",
   "metadata": {
    "scrolled": true
   },
   "outputs": [
    {
     "data": {
      "text/plain": [
       "<AxesSubplot:xlabel='converted', ylabel='count'>"
      ]
     },
     "execution_count": 328,
     "metadata": {},
     "output_type": "execute_result"
    },
    {
     "data": {
      "image/png": "[encoded data removed]",
      "text/plain": [
       "<Figure size 432x288 with 1 Axes>"
      ]
     },
     "metadata": {
      "needs_background": "light"
     },
     "output_type": "display_data"
    }
   ],
   "source": [
    "sns.countplot(x='converted',data=data,hue='landing_page')"
   ]
  },
  {
   "cell_type": "markdown",
   "id": "93a4c6d1",
   "metadata": {},
   "source": [
    "New page (orange) has higher portion of coverted status than blue - old page."
   ]
  },
  {
   "cell_type": "markdown",
   "id": "6b6af568",
   "metadata": {},
   "source": [
    "Conclusion: Statistical analysis and visualization agree.  "
   ]
  },
  {
   "cell_type": "markdown",
   "id": "58e6990f",
   "metadata": {},
   "source": [
    "# Q4. Does the converted status depend on the preferred language? [Hint: Create a contingency table using the pandas.crosstab() function]\n"
   ]
  },
  {
   "cell_type": "markdown",
   "id": "73f4c442",
   "metadata": {},
   "source": [
    "I create a contingency table using the pandas.crosstab() function"
   ]
  },
  {
   "cell_type": "code",
   "execution_count": 329,
   "id": "8a21bfb3",
   "metadata": {},
   "outputs": [
    {
     "data": {
      "text/html": [
       "<div>\n",
       "<style scoped>\n",
       "    .dataframe tbody tr th:only-of-type {\n",
       "        vertical-align: middle;\n",
       "    }\n",
       "\n",
       "    .dataframe tbody tr th {\n",
       "        vertical-align: top;\n",
       "    }\n",
       "\n",
       "    .dataframe thead th {\n",
       "        text-align: right;\n",
       "    }\n",
       "</style>\n",
       "<table border=\"1\" class=\"dataframe\">\n",
       "  <thead>\n",
       "    <tr style=\"text-align: right;\">\n",
       "      <th>language_preferred</th>\n",
       "      <th>English</th>\n",
       "      <th>French</th>\n",
       "      <th>Spanish</th>\n",
       "    </tr>\n",
       "    <tr>\n",
       "      <th>converted</th>\n",
       "      <th></th>\n",
       "      <th></th>\n",
       "      <th></th>\n",
       "    </tr>\n",
       "  </thead>\n",
       "  <tbody>\n",
       "    <tr>\n",
       "      <th>no</th>\n",
       "      <td>11</td>\n",
       "      <td>19</td>\n",
       "      <td>16</td>\n",
       "    </tr>\n",
       "    <tr>\n",
       "      <th>yes</th>\n",
       "      <td>21</td>\n",
       "      <td>15</td>\n",
       "      <td>18</td>\n",
       "    </tr>\n",
       "  </tbody>\n",
       "</table>\n",
       "</div>"
      ],
      "text/plain": [
       "language_preferred  English  French  Spanish\n",
       "converted                                   \n",
       "no                       11      19       16\n",
       "yes                      21      15       18"
      ]
     },
     "execution_count": 329,
     "metadata": {},
     "output_type": "execute_result"
    }
   ],
   "source": [
    "pd.crosstab(data['converted'],data['language_preferred'])"
   ]
  },
  {
   "cell_type": "markdown",
   "id": "b7adabaa",
   "metadata": {},
   "source": [
    "### Statistical analysis - I sue the chi2 contingency test"
   ]
  },
  {
   "cell_type": "markdown",
   "id": "3d4286b9",
   "metadata": {},
   "source": [
    "* Null hypothesis = the converted status does not depend on preferred language.\n",
    "\n",
    "* Alternative  hypothesis = converted status depends on the language."
   ]
  },
  {
   "cell_type": "code",
   "execution_count": 331,
   "id": "9d997971",
   "metadata": {},
   "outputs": [
    {
     "name": "stdout",
     "output_type": "stream",
     "text": [
      "0.2129888748754345\n"
     ]
    }
   ],
   "source": [
    "import pandas as pd\n",
    "from scipy.stats import chi2_contingency\n",
    "df = pd.DataFrame({'yes': [21, 15,18], 'no': [11, 19,16]}, index = ['E', 'S','F'])\n",
    "chi2, pval, dof, exp_freq = chi2_contingency(df)\n",
    "print(pval)"
   ]
  },
  {
   "cell_type": "markdown",
   "id": "07128701",
   "metadata": {},
   "source": [
    "Conclusion: p value  is larger than confidence level and it means we cannot reject null hypothesis. So we can conclude that converted status does not depend on preferred language.   "
   ]
  },
  {
   "cell_type": "markdown",
   "id": "89abede2",
   "metadata": {},
   "source": [
    "### Data visualization:"
   ]
  },
  {
   "cell_type": "code",
   "execution_count": 332,
   "id": "86c10943",
   "metadata": {},
   "outputs": [
    {
     "data": {
      "text/plain": [
       "<seaborn.axisgrid.FacetGrid at 0x19fbed59160>"
      ]
     },
     "execution_count": 332,
     "metadata": {},
     "output_type": "execute_result"
    },
    {
     "data": {
      "image/png": "[encoded data removed]",
      "text/plain": [
       "<Figure size 466.125x360 with 1 Axes>"
      ]
     },
     "metadata": {
      "needs_background": "light"
     },
     "output_type": "display_data"
    }
   ],
   "source": [
    "sns.displot(data=data, x=\"converted\", hue=\"language_preferred\", multiple=\"dodge\", shrink=.8,palette=\"winter\")"
   ]
  },
  {
   "cell_type": "markdown",
   "id": "5b807412",
   "metadata": {},
   "source": [
    "Conclusions: \n",
    "\n",
    "* Visualization:  It is difficult tosee any trend in the data. \n",
    "* Based on statistical analysis we can conclude that converted status does not depend on preferred language. "
   ]
  },
  {
   "cell_type": "markdown",
   "id": "0999ffba",
   "metadata": {},
   "source": [
    "# Q5. Is the mean time spent on the new page same for the different language users?"
   ]
  },
  {
   "cell_type": "markdown",
   "id": "1b5d49b5",
   "metadata": {},
   "source": [
    "### Visualization (copy of relevant figures) "
   ]
  },
  {
   "cell_type": "code",
   "execution_count": 333,
   "id": "f7a9e67a",
   "metadata": {},
   "outputs": [
    {
     "data": {
      "text/plain": [
       "<AxesSubplot:xlabel='language_preferred', ylabel='time_spent_on_the_page'>"
      ]
     },
     "execution_count": 333,
     "metadata": {},
     "output_type": "execute_result"
    },
    {
     "data": {
      "image/png": "[encoded data removed]",
      "text/plain": [
       "<Figure size 432x288 with 1 Axes>"
      ]
     },
     "metadata": {
      "needs_background": "light"
     },
     "output_type": "display_data"
    }
   ],
   "source": [
    "\n",
    "sns.barplot(x='language_preferred', y='time_spent_on_the_page', data=grLPNEW,palette='winter')  # barplot"
   ]
  },
  {
   "cell_type": "code",
   "execution_count": 334,
   "id": "164c14e0",
   "metadata": {},
   "outputs": [
    {
     "data": {
      "text/plain": [
       "<AxesSubplot:xlabel='language_preferred', ylabel='time_spent_on_the_page'>"
      ]
     },
     "execution_count": 334,
     "metadata": {},
     "output_type": "execute_result"
    },
    {
     "data": {
      "image/png": "[encoded data removed]",
      "text/plain": [
       "<Figure size 432x288 with 1 Axes>"
      ]
     },
     "metadata": {
      "needs_background": "light"
     },
     "output_type": "display_data"
    }
   ],
   "source": [
    "sns.boxplot(x='language_preferred', y='time_spent_on_the_page', data=grLPNEW,palette='winter')  # barplot"
   ]
  },
  {
   "cell_type": "code",
   "execution_count": 335,
   "id": "89b5093c",
   "metadata": {},
   "outputs": [
    {
     "data": {
      "text/plain": [
       "<AxesSubplot:xlabel='time_spent_on_the_page', ylabel='Count'>"
      ]
     },
     "execution_count": 335,
     "metadata": {},
     "output_type": "execute_result"
    },
    {
     "data": {
      "image/png": "[encoded data removed]",
      "text/plain": [
       "<Figure size 432x288 with 1 Axes>"
      ]
     },
     "metadata": {
      "needs_background": "light"
     },
     "output_type": "display_data"
    }
   ],
   "source": [
    "sns.histplot(x='time_spent_on_the_page', data=grLPNEW,kde=True,hue='language_preferred')  # barplot"
   ]
  },
  {
   "cell_type": "markdown",
   "id": "cba386d9",
   "metadata": {},
   "source": [
    "Boxplot visualitzation might be interpreted that the averages are different (English language preferred group spent the most time on average and French the least). \n",
    "But histogram shows that the 3 distributions have slightly different properties. "
   ]
  },
  {
   "cell_type": "markdown",
   "id": "e40851d3",
   "metadata": {},
   "source": [
    "### Statistical Analysis - one way ANOVA"
   ]
  },
  {
   "cell_type": "markdown",
   "id": "614426a5",
   "metadata": {},
   "source": [
    "First I define null and alternate hypotheses\n",
    "\n",
    "𝐻0: The time spent on new page with respect to each language category is equal.\n",
    "𝐻𝑎: At least one of the mean for time spent on new page with respect to the three laguages is different.\n",
    "\n",
    "I select appropriate test\n",
    "\n",
    "* This is a problem, concerning three means. One-way ANOVA could be the appropriate test here provided normality and equality of variance assumptions are verified.\n",
    "\n",
    "* For testing of normality, I use Shapiro-Wilk’s test.\n",
    "* For equality of variance,  I use Levene test below.\n",
    "\n"
   ]
  },
  {
   "cell_type": "markdown",
   "id": "cb64044c",
   "metadata": {},
   "source": [
    "### Shapiro-Wilk’s test"
   ]
  },
  {
   "cell_type": "markdown",
   "id": "e34a28ec",
   "metadata": {},
   "source": [
    "We will test the null hypothesis first: \n",
    "\n",
    "𝐻0:The time spent on new page follows a normal distribution\n",
    "\n",
    "against the alternative hypothesis:\n",
    "\n",
    "𝐻𝑎:The time spent on new page do not not follow a normal distribution"
   ]
  },
  {
   "cell_type": "code",
   "execution_count": 336,
   "id": "b148cd6a",
   "metadata": {},
   "outputs": [
    {
     "name": "stdout",
     "output_type": "stream",
     "text": [
      "The p-value is 0.8040016293525696\n"
     ]
    }
   ],
   "source": [
    "# Assumption 1: Normality- Use the shapiro function for the scipy.stats library for this test\n",
    "# the p-value\n",
    "w, p_value = stats.shapiro(grLPNEW['time_spent_on_the_page']) \n",
    "print('The p-value is', p_value)"
   ]
  },
  {
   "cell_type": "markdown",
   "id": "72705d2e",
   "metadata": {},
   "source": [
    "Since the p-value is large than the 5% significance level, we fail to reject the null hypothesis.\n",
    "So the full data follows normal distribution."
   ]
  },
  {
   "cell_type": "markdown",
   "id": "6ce45d4c",
   "metadata": {},
   "source": [
    "One can check the 3 samples distributions:\n"
   ]
  },
  {
   "cell_type": "code",
   "execution_count": 337,
   "id": "0df99e26",
   "metadata": {},
   "outputs": [],
   "source": [
    "newpageE = grLPNEW[grLPNEW['language_preferred']=='English']['time_spent_on_the_page']\n",
    "newpageS = grLPNEW[grLPNEW['language_preferred']=='Spanish']['time_spent_on_the_page']\n",
    "newpageF = grLPNEW[grLPNEW['language_preferred']=='French']['time_spent_on_the_page']"
   ]
  },
  {
   "cell_type": "code",
   "execution_count": 338,
   "id": "7548b3fd",
   "metadata": {},
   "outputs": [
    {
     "name": "stdout",
     "output_type": "stream",
     "text": [
      "The p-valuee are 0.8863451480865479 0.09006839990615845 0.32137173414230347\n"
     ]
    }
   ],
   "source": [
    "# Assumption 1: Normality\n",
    "# Use the shapiro function for the scipy.stats library for this test\n",
    "# find the p-value\n",
    "\n",
    "w1, p_value1 = stats.shapiro(newpageE) \n",
    "w2, p_value2 = stats.shapiro(newpageS) \n",
    "w3, p_value3 = stats.shapiro(newpageF) \n",
    "print('The p-valuee are', p_value1, p_value2, p_value3)"
   ]
  },
  {
   "cell_type": "markdown",
   "id": "885a38b3",
   "metadata": {},
   "source": [
    "p value is larger than confidence level which means we cannt reject null hypothesis. The distributions are normal. "
   ]
  },
  {
   "cell_type": "markdown",
   "id": "62e3e564",
   "metadata": {},
   "source": [
    "\n"
   ]
  },
  {
   "cell_type": "markdown",
   "id": "e61d7d16",
   "metadata": {},
   "source": [
    "### Levene test"
   ]
  },
  {
   "cell_type": "markdown",
   "id": "c7012c0a",
   "metadata": {},
   "source": [
    "We will test the null hypothesis\n",
    "\n",
    "    𝐻0 : All the population variances are equal\n",
    "\n",
    "against the alternative hypothesis\n",
    "\n",
    "    𝐻𝑎 : At least one variance is different from the rest"
   ]
  },
  {
   "cell_type": "code",
   "execution_count": 339,
   "id": "0ab963d5",
   "metadata": {},
   "outputs": [
    {
     "name": "stdout",
     "output_type": "stream",
     "text": [
      "The p-value is 0.46711357711340173\n"
     ]
    }
   ],
   "source": [
    "#Assumption 2: Homogeneity of Variance\n",
    "# use levene function from scipy.stats \n",
    "\n",
    "# find the p-value\n",
    "statistic, p_value = stats.levene(newpageE,newpageS,newpageF)\n",
    "print('The p-value is', p_value)"
   ]
  },
  {
   "cell_type": "markdown",
   "id": "57502c06",
   "metadata": {},
   "source": [
    "Since the p-value is large than the 5% significance level, we fail to reject the null hypothesis of homogeneity of variances.\n",
    "So all variances are equal."
   ]
  },
  {
   "cell_type": "markdown",
   "id": "5ec7f7a4",
   "metadata": {},
   "source": [
    "### One-way ANOVA"
   ]
  },
  {
   "cell_type": "markdown",
   "id": "4349ec39",
   "metadata": {},
   "source": [
    "Define null and alternate hypotheses\n",
    "\n",
    "𝐻0: time spent on the new page doesnto depend on preferred language\n",
    "\n",
    "𝐻𝑎 : time spent on the new page depends on preferred language"
   ]
  },
  {
   "cell_type": "code",
   "execution_count": 340,
   "id": "f921b1be",
   "metadata": {},
   "outputs": [
    {
     "name": "stdout",
     "output_type": "stream",
     "text": [
      "The p-value is  0.43204138694325955\n"
     ]
    }
   ],
   "source": [
    "# perform one-way anova test using the f_oneway function from scipy.stats library\n",
    "\n",
    "test_stat, p_value = stats.f_oneway(newpageE,newpageS,newpageF)\n",
    "print('The p-value is ', p_value)"
   ]
  },
  {
   "cell_type": "markdown",
   "id": "fc84fbce",
   "metadata": {},
   "source": [
    "Since the p-value is greater than the 5% significance level, we fail to reject the null hypothesis. Hence, we have not enough statistical evidence to say that the mean times spent on the new page  with respect to the preferred laguage are different."
   ]
  },
  {
   "cell_type": "code",
   "execution_count": null,
   "id": "07d8e173",
   "metadata": {},
   "outputs": [],
   "source": []
  },
  {
   "cell_type": "code",
   "execution_count": null,
   "id": "d3796145",
   "metadata": {},
   "outputs": [],
   "source": []
  },
  {
   "cell_type": "code",
   "execution_count": null,
   "id": "308a541a",
   "metadata": {},
   "outputs": [],
   "source": []
  }
 ],
 "metadata": {
  "kernelspec": {
   "display_name": "Python 3",
   "language": "python",
   "name": "python3"
  },
  "language_info": {
   "codemirror_mode": {
    "name": "ipython",
    "version": 3
   },
   "file_extension": ".py",
   "mimetype": "text/x-python",
   "name": "python",
   "nbconvert_exporter": "python",
   "pygments_lexer": "ipython3",
   "version": "3.8.8"
  }
 },
 "nbformat": 4,
 "nbformat_minor": 5
}
